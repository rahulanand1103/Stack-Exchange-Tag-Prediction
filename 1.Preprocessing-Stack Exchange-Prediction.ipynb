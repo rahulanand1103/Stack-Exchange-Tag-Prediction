{
 "cells": [
  {
   "cell_type": "code",
   "execution_count": 116,
   "metadata": {},
   "outputs": [],
   "source": [
    "import pandas as pd\n",
    "import matplotlib.pyplot as plt\n",
    "import plotly.express as px\n",
    "import numpy as np\n",
    "import re"
   ]
  },
  {
   "cell_type": "code",
   "execution_count": 117,
   "metadata": {},
   "outputs": [
    {
     "data": {
      "text/html": [
       "<div>\n",
       "<style scoped>\n",
       "    .dataframe tbody tr th:only-of-type {\n",
       "        vertical-align: middle;\n",
       "    }\n",
       "\n",
       "    .dataframe tbody tr th {\n",
       "        vertical-align: top;\n",
       "    }\n",
       "\n",
       "    .dataframe thead th {\n",
       "        text-align: right;\n",
       "    }\n",
       "</style>\n",
       "<table border=\"1\" class=\"dataframe\">\n",
       "  <thead>\n",
       "    <tr style=\"text-align: right;\">\n",
       "      <th></th>\n",
       "      <th>Id</th>\n",
       "      <th>OwnerUserId</th>\n",
       "      <th>CreationDate</th>\n",
       "      <th>Score</th>\n",
       "      <th>Title</th>\n",
       "      <th>Body</th>\n",
       "    </tr>\n",
       "  </thead>\n",
       "  <tbody>\n",
       "    <tr>\n",
       "      <th>0</th>\n",
       "      <td>6</td>\n",
       "      <td>5.0</td>\n",
       "      <td>2010-07-19T19:14:44Z</td>\n",
       "      <td>272</td>\n",
       "      <td>The Two Cultures: statistics vs. machine learning?</td>\n",
       "      <td>&lt;p&gt;Last year, I read a blog post from &lt;a href=\"http://anyall.org/\"&gt;Brendan O'Connor&lt;/a&gt; entitled &lt;a href=\"http://anyall.org/blog/2008/12/statistics-vs-machine-learning-fight/\"&gt;\"Statistics vs. Machine Learning, fight!\"&lt;/a&gt; that discussed some of the differences between the two fields.  &lt;a href=\"http://andrewgelman.com/2008/12/machine_learnin/\"&gt;Andrew Gelman responded favorably to this&lt;/a&gt;:&lt;/p&gt;\\...</td>\n",
       "    </tr>\n",
       "    <tr>\n",
       "      <th>1</th>\n",
       "      <td>21</td>\n",
       "      <td>59.0</td>\n",
       "      <td>2010-07-19T19:24:36Z</td>\n",
       "      <td>4</td>\n",
       "      <td>Forecasting demographic census</td>\n",
       "      <td>&lt;p&gt;What are some of the ways to forecast demographic census with some validation and calibration techniques?&lt;/p&gt;\\n\\n&lt;p&gt;Some of the concerns:&lt;/p&gt;\\n\\n&lt;ul&gt;\\n&lt;li&gt;Census blocks vary in sizes as rural\\nareas are a lot larger than condensed\\nurban areas. Is there a need to account for the area size difference?&lt;/li&gt;\\n&lt;li&gt;if let's say I have census data\\ndating back to 4 - 5 census periods,\\nhow far ca...</td>\n",
       "    </tr>\n",
       "    <tr>\n",
       "      <th>2</th>\n",
       "      <td>22</td>\n",
       "      <td>66.0</td>\n",
       "      <td>2010-07-19T19:25:39Z</td>\n",
       "      <td>208</td>\n",
       "      <td>Bayesian and frequentist reasoning in plain English</td>\n",
       "      <td>&lt;p&gt;How would you describe in plain English the characteristics that distinguish Bayesian from Frequentist reasoning?&lt;/p&gt;\\n</td>\n",
       "    </tr>\n",
       "    <tr>\n",
       "      <th>3</th>\n",
       "      <td>31</td>\n",
       "      <td>13.0</td>\n",
       "      <td>2010-07-19T19:28:44Z</td>\n",
       "      <td>138</td>\n",
       "      <td>What is the meaning of p values and t values in statistical tests?</td>\n",
       "      <td>&lt;p&gt;After taking a statistics course and then trying to help fellow students, I noticed one subject that inspires much head-desk banging is interpreting the results of statistical hypothesis tests.  It seems that students easily learn how to perform the calculations required by a given test but get hung up on interpreting the results.  Many computerized tools report test results in terms of \"p ...</td>\n",
       "    </tr>\n",
       "    <tr>\n",
       "      <th>4</th>\n",
       "      <td>36</td>\n",
       "      <td>8.0</td>\n",
       "      <td>2010-07-19T19:31:47Z</td>\n",
       "      <td>58</td>\n",
       "      <td>Examples for teaching: Correlation does not mean causation</td>\n",
       "      <td>&lt;p&gt;There is an old saying: \"Correlation does not mean causation\". When I teach, I tend to use the following standard examples to illustrate this point:&lt;/p&gt;\\n\\n&lt;ol&gt;\\n&lt;li&gt;number of storks and birth rate in Denmark;&lt;/li&gt;\\n&lt;li&gt;number of priests in America and alcoholism;&lt;/li&gt;\\n&lt;li&gt;in the start of the 20th century it was noted that there was a strong correlation between 'Number of radios' and 'Numb...</td>\n",
       "    </tr>\n",
       "  </tbody>\n",
       "</table>\n",
       "</div>"
      ],
      "text/plain": [
       "   Id  OwnerUserId          CreationDate  Score  \\\n",
       "0   6          5.0  2010-07-19T19:14:44Z    272   \n",
       "1  21         59.0  2010-07-19T19:24:36Z      4   \n",
       "2  22         66.0  2010-07-19T19:25:39Z    208   \n",
       "3  31         13.0  2010-07-19T19:28:44Z    138   \n",
       "4  36          8.0  2010-07-19T19:31:47Z     58   \n",
       "\n",
       "                                                                Title  \\\n",
       "0                  The Two Cultures: statistics vs. machine learning?   \n",
       "1                                      Forecasting demographic census   \n",
       "2                 Bayesian and frequentist reasoning in plain English   \n",
       "3  What is the meaning of p values and t values in statistical tests?   \n",
       "4          Examples for teaching: Correlation does not mean causation   \n",
       "\n",
       "                                                                                                                                                                                                                                                                                                                                                                                                              Body  \n",
       "0  <p>Last year, I read a blog post from <a href=\"http://anyall.org/\">Brendan O'Connor</a> entitled <a href=\"http://anyall.org/blog/2008/12/statistics-vs-machine-learning-fight/\">\"Statistics vs. Machine Learning, fight!\"</a> that discussed some of the differences between the two fields.  <a href=\"http://andrewgelman.com/2008/12/machine_learnin/\">Andrew Gelman responded favorably to this</a>:</p>\\...  \n",
       "1  <p>What are some of the ways to forecast demographic census with some validation and calibration techniques?</p>\\n\\n<p>Some of the concerns:</p>\\n\\n<ul>\\n<li>Census blocks vary in sizes as rural\\nareas are a lot larger than condensed\\nurban areas. Is there a need to account for the area size difference?</li>\\n<li>if let's say I have census data\\ndating back to 4 - 5 census periods,\\nhow far ca...  \n",
       "2                                                                                                                                                                                                                                                                                       <p>How would you describe in plain English the characteristics that distinguish Bayesian from Frequentist reasoning?</p>\\n  \n",
       "3  <p>After taking a statistics course and then trying to help fellow students, I noticed one subject that inspires much head-desk banging is interpreting the results of statistical hypothesis tests.  It seems that students easily learn how to perform the calculations required by a given test but get hung up on interpreting the results.  Many computerized tools report test results in terms of \"p ...  \n",
       "4  <p>There is an old saying: \"Correlation does not mean causation\". When I teach, I tend to use the following standard examples to illustrate this point:</p>\\n\\n<ol>\\n<li>number of storks and birth rate in Denmark;</li>\\n<li>number of priests in America and alcoholism;</li>\\n<li>in the start of the 20th century it was noted that there was a strong correlation between 'Number of radios' and 'Numb...  "
      ]
     },
     "execution_count": 117,
     "metadata": {},
     "output_type": "execute_result"
    }
   ],
   "source": [
    "df_questions = pd.read_csv('Questions.csv', encoding='iso-8859-1')\n",
    "df_tags = pd.read_csv('Tags.csv', encoding='iso-8859-1')\n",
    "df_questions.head()"
   ]
  },
  {
   "cell_type": "code",
   "execution_count": 118,
   "metadata": {},
   "outputs": [
    {
     "data": {
      "text/plain": [
       "(85085, 6)"
      ]
     },
     "execution_count": 118,
     "metadata": {},
     "output_type": "execute_result"
    }
   ],
   "source": [
    "df_questions.shape"
   ]
  },
  {
   "cell_type": "code",
   "execution_count": 119,
   "metadata": {},
   "outputs": [
    {
     "data": {
      "text/plain": [
       "count     1315\n",
       "unique    1315\n",
       "top       lars\n",
       "freq         1\n",
       "Name: Tag, dtype: object"
      ]
     },
     "execution_count": 119,
     "metadata": {},
     "output_type": "execute_result"
    }
   ],
   "source": [
    "grouped_tags = df_tags.groupby(\"Tag\", sort='count').size().reset_index(name='count')\n",
    "grouped_tags.Tag.describe()"
   ]
  },
  {
   "cell_type": "code",
   "execution_count": 120,
   "metadata": {},
   "outputs": [],
   "source": [
    "num_classes = 100\n",
    "grouped_tags = df_tags.groupby(\"Tag\").size().reset_index(name='count')\n",
    "most_common_tags = grouped_tags.nlargest(num_classes, columns=\"count\")\n",
    "df_tags.Tag = df_tags.Tag.apply(lambda tag : tag if tag in most_common_tags.Tag.values else None)\n",
    "df_tags = df_tags.dropna()"
   ]
  },
  {
   "cell_type": "code",
   "execution_count": 121,
   "metadata": {},
   "outputs": [],
   "source": [
    "import re \n",
    "\n",
    "def strip_html_tags(body):\n",
    "    regex = re.compile('<.*?>')\n",
    "    return re.sub(regex, '', body)\n",
    "\n",
    "df_questions['Body'] = df_questions['Body'].apply(strip_html_tags)\n",
    "df_questions['Text'] = df_questions['Title'] + ' ' + df_questions['Body']"
   ]
  },
  {
   "cell_type": "code",
   "execution_count": 122,
   "metadata": {},
   "outputs": [],
   "source": [
    "# denormalize tables\n",
    "\n",
    "def tags_for_question(question_id):\n",
    "    return df_tags[df_tags['Id'] == question_id].Tag.values\n",
    "\n",
    "def add_tags_column(row):\n",
    "    row['Tags'] = tags_for_question(row['Id'])\n",
    "    return row\n",
    "\n",
    "df_questions = df_questions.apply(add_tags_column, axis=1)"
   ]
  },
  {
   "cell_type": "code",
   "execution_count": 123,
   "metadata": {},
   "outputs": [],
   "source": [
    "pd.set_option('display.max_colwidth', 400)\n",
    "df_main=df_questions[[ 'Text', 'Tags']]"
   ]
  },
  {
   "cell_type": "code",
   "execution_count": null,
   "metadata": {},
   "outputs": [],
   "source": []
  },
  {
   "cell_type": "code",
   "execution_count": 124,
   "metadata": {},
   "outputs": [
    {
     "data": {
      "text/plain": [
       "(85085, 2)"
      ]
     },
     "execution_count": 124,
     "metadata": {},
     "output_type": "execute_result"
    }
   ],
   "source": [
    "df_main.shape"
   ]
  },
  {
   "cell_type": "code",
   "execution_count": 125,
   "metadata": {},
   "outputs": [
    {
     "name": "stdout",
     "output_type": "stream",
     "text": [
      "1    27729\n",
      "2    27704\n",
      "3    14931\n",
      "0     8720\n",
      "4     5022\n",
      "5      979\n",
      "Name: Tags, dtype: int64\n"
     ]
    }
   ],
   "source": [
    "tags_counts=df_main[\"Tags\"].apply(lambda text: len(text))\n",
    "print(tags_counts.value_counts())"
   ]
  },
  {
   "cell_type": "code",
   "execution_count": 126,
   "metadata": {},
   "outputs": [],
   "source": [
    "import nltk\n",
    "flat_list = [item for sublist in df_questions['Tags'].values for item in sublist]\n",
    "\n",
    "keywords = nltk.FreqDist(flat_list)"
   ]
  },
  {
   "cell_type": "code",
   "execution_count": 127,
   "metadata": {},
   "outputs": [
    {
     "data": {
      "text/html": [
       "<div>\n",
       "<style scoped>\n",
       "    .dataframe tbody tr th:only-of-type {\n",
       "        vertical-align: middle;\n",
       "    }\n",
       "\n",
       "    .dataframe tbody tr th {\n",
       "        vertical-align: top;\n",
       "    }\n",
       "\n",
       "    .dataframe thead th {\n",
       "        text-align: right;\n",
       "    }\n",
       "</style>\n",
       "<table border=\"1\" class=\"dataframe\">\n",
       "  <thead>\n",
       "    <tr style=\"text-align: right;\">\n",
       "      <th></th>\n",
       "      <th>word</th>\n",
       "      <th>frequency</th>\n",
       "    </tr>\n",
       "  </thead>\n",
       "  <tbody>\n",
       "    <tr>\n",
       "      <th>15</th>\n",
       "      <td>r</td>\n",
       "      <td>13236</td>\n",
       "    </tr>\n",
       "    <tr>\n",
       "      <th>17</th>\n",
       "      <td>regression</td>\n",
       "      <td>10959</td>\n",
       "    </tr>\n",
       "    <tr>\n",
       "      <th>0</th>\n",
       "      <td>machine-learning</td>\n",
       "      <td>6089</td>\n",
       "    </tr>\n",
       "    <tr>\n",
       "      <th>10</th>\n",
       "      <td>time-series</td>\n",
       "      <td>5559</td>\n",
       "    </tr>\n",
       "    <tr>\n",
       "      <th>40</th>\n",
       "      <td>probability</td>\n",
       "      <td>4217</td>\n",
       "    </tr>\n",
       "    <tr>\n",
       "      <th>...</th>\n",
       "      <td>...</td>\n",
       "      <td>...</td>\n",
       "    </tr>\n",
       "    <tr>\n",
       "      <th>54</th>\n",
       "      <td>nonlinear-regression</td>\n",
       "      <td>514</td>\n",
       "    </tr>\n",
       "    <tr>\n",
       "      <th>72</th>\n",
       "      <td>cox-model</td>\n",
       "      <td>510</td>\n",
       "    </tr>\n",
       "    <tr>\n",
       "      <th>81</th>\n",
       "      <td>monte-carlo</td>\n",
       "      <td>504</td>\n",
       "    </tr>\n",
       "    <tr>\n",
       "      <th>36</th>\n",
       "      <td>proportion</td>\n",
       "      <td>503</td>\n",
       "    </tr>\n",
       "    <tr>\n",
       "      <th>94</th>\n",
       "      <td>algorithms</td>\n",
       "      <td>500</td>\n",
       "    </tr>\n",
       "  </tbody>\n",
       "</table>\n",
       "<p>100 rows × 2 columns</p>\n",
       "</div>"
      ],
      "text/plain": [
       "                    word  frequency\n",
       "15                     r      13236\n",
       "17            regression      10959\n",
       "0       machine-learning       6089\n",
       "10           time-series       5559\n",
       "40           probability       4217\n",
       "..                   ...        ...\n",
       "54  nonlinear-regression        514\n",
       "72             cox-model        510\n",
       "81           monte-carlo        504\n",
       "36            proportion        503\n",
       "94            algorithms        500\n",
       "\n",
       "[100 rows x 2 columns]"
      ]
     },
     "execution_count": 127,
     "metadata": {},
     "output_type": "execute_result"
    }
   ],
   "source": [
    "df_fdist=pd.DataFrame(keywords.items(), columns=['word', 'frequency'])\n",
    "#sorting tags based upon frequency\n",
    "tag_df_sorted = df_fdist.sort_values(['frequency'], ascending = False)\n",
    "tag_counts = tag_df_sorted['frequency'].values\n",
    "tag_df_sorted"
   ]
  },
  {
   "cell_type": "code",
   "execution_count": 128,
   "metadata": {},
   "outputs": [
    {
     "data": {
      "application/vnd.plotly.v1+json": {
       "config": {
        "plotlyServerURL": "https://plot.ly"
       },
       "data": [
        {
         "alignmentgroup": "True",
         "hovertemplate": "word=%{x}<br>frequency=%{y}<extra></extra>",
         "legendgroup": "",
         "marker": {
          "color": "#636efa",
          "pattern": {
           "shape": ""
          }
         },
         "name": "",
         "offsetgroup": "",
         "orientation": "v",
         "showlegend": false,
         "textposition": "auto",
         "type": "bar",
         "x": [
          "r",
          "regression",
          "machine-learning",
          "time-series",
          "probability",
          "hypothesis-testing",
          "self-study",
          "distributions",
          "logistic",
          "classification",
          "correlation",
          "statistical-significance",
          "bayesian",
          "anova",
          "normal-distribution",
          "multiple-regression",
          "mixed-model",
          "clustering",
          "neural-networks",
          "mathematical-statistics"
         ],
         "xaxis": "x",
         "y": [
          13236,
          10959,
          6089,
          5559,
          4217,
          3869,
          3732,
          3501,
          3316,
          2881,
          2871,
          2666,
          2656,
          2505,
          2181,
          2054,
          1998,
          1952,
          1897,
          1888
         ],
         "yaxis": "y"
        }
       ],
       "layout": {
        "barmode": "relative",
        "height": 400,
        "legend": {
         "tracegroupgap": 0
        },
        "margin": {
         "t": 60
        },
        "template": {
         "data": {
          "bar": [
           {
            "error_x": {
             "color": "#2a3f5f"
            },
            "error_y": {
             "color": "#2a3f5f"
            },
            "marker": {
             "line": {
              "color": "#E5ECF6",
              "width": 0.5
             },
             "pattern": {
              "fillmode": "overlay",
              "size": 10,
              "solidity": 0.2
             }
            },
            "type": "bar"
           }
          ],
          "barpolar": [
           {
            "marker": {
             "line": {
              "color": "#E5ECF6",
              "width": 0.5
             },
             "pattern": {
              "fillmode": "overlay",
              "size": 10,
              "solidity": 0.2
             }
            },
            "type": "barpolar"
           }
          ],
          "carpet": [
           {
            "aaxis": {
             "endlinecolor": "#2a3f5f",
             "gridcolor": "white",
             "linecolor": "white",
             "minorgridcolor": "white",
             "startlinecolor": "#2a3f5f"
            },
            "baxis": {
             "endlinecolor": "#2a3f5f",
             "gridcolor": "white",
             "linecolor": "white",
             "minorgridcolor": "white",
             "startlinecolor": "#2a3f5f"
            },
            "type": "carpet"
           }
          ],
          "choropleth": [
           {
            "colorbar": {
             "outlinewidth": 0,
             "ticks": ""
            },
            "type": "choropleth"
           }
          ],
          "contour": [
           {
            "colorbar": {
             "outlinewidth": 0,
             "ticks": ""
            },
            "colorscale": [
             [
              0,
              "#0d0887"
             ],
             [
              0.1111111111111111,
              "#46039f"
             ],
             [
              0.2222222222222222,
              "#7201a8"
             ],
             [
              0.3333333333333333,
              "#9c179e"
             ],
             [
              0.4444444444444444,
              "#bd3786"
             ],
             [
              0.5555555555555556,
              "#d8576b"
             ],
             [
              0.6666666666666666,
              "#ed7953"
             ],
             [
              0.7777777777777778,
              "#fb9f3a"
             ],
             [
              0.8888888888888888,
              "#fdca26"
             ],
             [
              1,
              "#f0f921"
             ]
            ],
            "type": "contour"
           }
          ],
          "contourcarpet": [
           {
            "colorbar": {
             "outlinewidth": 0,
             "ticks": ""
            },
            "type": "contourcarpet"
           }
          ],
          "heatmap": [
           {
            "colorbar": {
             "outlinewidth": 0,
             "ticks": ""
            },
            "colorscale": [
             [
              0,
              "#0d0887"
             ],
             [
              0.1111111111111111,
              "#46039f"
             ],
             [
              0.2222222222222222,
              "#7201a8"
             ],
             [
              0.3333333333333333,
              "#9c179e"
             ],
             [
              0.4444444444444444,
              "#bd3786"
             ],
             [
              0.5555555555555556,
              "#d8576b"
             ],
             [
              0.6666666666666666,
              "#ed7953"
             ],
             [
              0.7777777777777778,
              "#fb9f3a"
             ],
             [
              0.8888888888888888,
              "#fdca26"
             ],
             [
              1,
              "#f0f921"
             ]
            ],
            "type": "heatmap"
           }
          ],
          "heatmapgl": [
           {
            "colorbar": {
             "outlinewidth": 0,
             "ticks": ""
            },
            "colorscale": [
             [
              0,
              "#0d0887"
             ],
             [
              0.1111111111111111,
              "#46039f"
             ],
             [
              0.2222222222222222,
              "#7201a8"
             ],
             [
              0.3333333333333333,
              "#9c179e"
             ],
             [
              0.4444444444444444,
              "#bd3786"
             ],
             [
              0.5555555555555556,
              "#d8576b"
             ],
             [
              0.6666666666666666,
              "#ed7953"
             ],
             [
              0.7777777777777778,
              "#fb9f3a"
             ],
             [
              0.8888888888888888,
              "#fdca26"
             ],
             [
              1,
              "#f0f921"
             ]
            ],
            "type": "heatmapgl"
           }
          ],
          "histogram": [
           {
            "marker": {
             "pattern": {
              "fillmode": "overlay",
              "size": 10,
              "solidity": 0.2
             }
            },
            "type": "histogram"
           }
          ],
          "histogram2d": [
           {
            "colorbar": {
             "outlinewidth": 0,
             "ticks": ""
            },
            "colorscale": [
             [
              0,
              "#0d0887"
             ],
             [
              0.1111111111111111,
              "#46039f"
             ],
             [
              0.2222222222222222,
              "#7201a8"
             ],
             [
              0.3333333333333333,
              "#9c179e"
             ],
             [
              0.4444444444444444,
              "#bd3786"
             ],
             [
              0.5555555555555556,
              "#d8576b"
             ],
             [
              0.6666666666666666,
              "#ed7953"
             ],
             [
              0.7777777777777778,
              "#fb9f3a"
             ],
             [
              0.8888888888888888,
              "#fdca26"
             ],
             [
              1,
              "#f0f921"
             ]
            ],
            "type": "histogram2d"
           }
          ],
          "histogram2dcontour": [
           {
            "colorbar": {
             "outlinewidth": 0,
             "ticks": ""
            },
            "colorscale": [
             [
              0,
              "#0d0887"
             ],
             [
              0.1111111111111111,
              "#46039f"
             ],
             [
              0.2222222222222222,
              "#7201a8"
             ],
             [
              0.3333333333333333,
              "#9c179e"
             ],
             [
              0.4444444444444444,
              "#bd3786"
             ],
             [
              0.5555555555555556,
              "#d8576b"
             ],
             [
              0.6666666666666666,
              "#ed7953"
             ],
             [
              0.7777777777777778,
              "#fb9f3a"
             ],
             [
              0.8888888888888888,
              "#fdca26"
             ],
             [
              1,
              "#f0f921"
             ]
            ],
            "type": "histogram2dcontour"
           }
          ],
          "mesh3d": [
           {
            "colorbar": {
             "outlinewidth": 0,
             "ticks": ""
            },
            "type": "mesh3d"
           }
          ],
          "parcoords": [
           {
            "line": {
             "colorbar": {
              "outlinewidth": 0,
              "ticks": ""
             }
            },
            "type": "parcoords"
           }
          ],
          "pie": [
           {
            "automargin": true,
            "type": "pie"
           }
          ],
          "scatter": [
           {
            "marker": {
             "colorbar": {
              "outlinewidth": 0,
              "ticks": ""
             }
            },
            "type": "scatter"
           }
          ],
          "scatter3d": [
           {
            "line": {
             "colorbar": {
              "outlinewidth": 0,
              "ticks": ""
             }
            },
            "marker": {
             "colorbar": {
              "outlinewidth": 0,
              "ticks": ""
             }
            },
            "type": "scatter3d"
           }
          ],
          "scattercarpet": [
           {
            "marker": {
             "colorbar": {
              "outlinewidth": 0,
              "ticks": ""
             }
            },
            "type": "scattercarpet"
           }
          ],
          "scattergeo": [
           {
            "marker": {
             "colorbar": {
              "outlinewidth": 0,
              "ticks": ""
             }
            },
            "type": "scattergeo"
           }
          ],
          "scattergl": [
           {
            "marker": {
             "colorbar": {
              "outlinewidth": 0,
              "ticks": ""
             }
            },
            "type": "scattergl"
           }
          ],
          "scattermapbox": [
           {
            "marker": {
             "colorbar": {
              "outlinewidth": 0,
              "ticks": ""
             }
            },
            "type": "scattermapbox"
           }
          ],
          "scatterpolar": [
           {
            "marker": {
             "colorbar": {
              "outlinewidth": 0,
              "ticks": ""
             }
            },
            "type": "scatterpolar"
           }
          ],
          "scatterpolargl": [
           {
            "marker": {
             "colorbar": {
              "outlinewidth": 0,
              "ticks": ""
             }
            },
            "type": "scatterpolargl"
           }
          ],
          "scatterternary": [
           {
            "marker": {
             "colorbar": {
              "outlinewidth": 0,
              "ticks": ""
             }
            },
            "type": "scatterternary"
           }
          ],
          "surface": [
           {
            "colorbar": {
             "outlinewidth": 0,
             "ticks": ""
            },
            "colorscale": [
             [
              0,
              "#0d0887"
             ],
             [
              0.1111111111111111,
              "#46039f"
             ],
             [
              0.2222222222222222,
              "#7201a8"
             ],
             [
              0.3333333333333333,
              "#9c179e"
             ],
             [
              0.4444444444444444,
              "#bd3786"
             ],
             [
              0.5555555555555556,
              "#d8576b"
             ],
             [
              0.6666666666666666,
              "#ed7953"
             ],
             [
              0.7777777777777778,
              "#fb9f3a"
             ],
             [
              0.8888888888888888,
              "#fdca26"
             ],
             [
              1,
              "#f0f921"
             ]
            ],
            "type": "surface"
           }
          ],
          "table": [
           {
            "cells": {
             "fill": {
              "color": "#EBF0F8"
             },
             "line": {
              "color": "white"
             }
            },
            "header": {
             "fill": {
              "color": "#C8D4E3"
             },
             "line": {
              "color": "white"
             }
            },
            "type": "table"
           }
          ]
         },
         "layout": {
          "annotationdefaults": {
           "arrowcolor": "#2a3f5f",
           "arrowhead": 0,
           "arrowwidth": 1
          },
          "autotypenumbers": "strict",
          "coloraxis": {
           "colorbar": {
            "outlinewidth": 0,
            "ticks": ""
           }
          },
          "colorscale": {
           "diverging": [
            [
             0,
             "#8e0152"
            ],
            [
             0.1,
             "#c51b7d"
            ],
            [
             0.2,
             "#de77ae"
            ],
            [
             0.3,
             "#f1b6da"
            ],
            [
             0.4,
             "#fde0ef"
            ],
            [
             0.5,
             "#f7f7f7"
            ],
            [
             0.6,
             "#e6f5d0"
            ],
            [
             0.7,
             "#b8e186"
            ],
            [
             0.8,
             "#7fbc41"
            ],
            [
             0.9,
             "#4d9221"
            ],
            [
             1,
             "#276419"
            ]
           ],
           "sequential": [
            [
             0,
             "#0d0887"
            ],
            [
             0.1111111111111111,
             "#46039f"
            ],
            [
             0.2222222222222222,
             "#7201a8"
            ],
            [
             0.3333333333333333,
             "#9c179e"
            ],
            [
             0.4444444444444444,
             "#bd3786"
            ],
            [
             0.5555555555555556,
             "#d8576b"
            ],
            [
             0.6666666666666666,
             "#ed7953"
            ],
            [
             0.7777777777777778,
             "#fb9f3a"
            ],
            [
             0.8888888888888888,
             "#fdca26"
            ],
            [
             1,
             "#f0f921"
            ]
           ],
           "sequentialminus": [
            [
             0,
             "#0d0887"
            ],
            [
             0.1111111111111111,
             "#46039f"
            ],
            [
             0.2222222222222222,
             "#7201a8"
            ],
            [
             0.3333333333333333,
             "#9c179e"
            ],
            [
             0.4444444444444444,
             "#bd3786"
            ],
            [
             0.5555555555555556,
             "#d8576b"
            ],
            [
             0.6666666666666666,
             "#ed7953"
            ],
            [
             0.7777777777777778,
             "#fb9f3a"
            ],
            [
             0.8888888888888888,
             "#fdca26"
            ],
            [
             1,
             "#f0f921"
            ]
           ]
          },
          "colorway": [
           "#636efa",
           "#EF553B",
           "#00cc96",
           "#ab63fa",
           "#FFA15A",
           "#19d3f3",
           "#FF6692",
           "#B6E880",
           "#FF97FF",
           "#FECB52"
          ],
          "font": {
           "color": "#2a3f5f"
          },
          "geo": {
           "bgcolor": "white",
           "lakecolor": "white",
           "landcolor": "#E5ECF6",
           "showlakes": true,
           "showland": true,
           "subunitcolor": "white"
          },
          "hoverlabel": {
           "align": "left"
          },
          "hovermode": "closest",
          "mapbox": {
           "style": "light"
          },
          "paper_bgcolor": "white",
          "plot_bgcolor": "#E5ECF6",
          "polar": {
           "angularaxis": {
            "gridcolor": "white",
            "linecolor": "white",
            "ticks": ""
           },
           "bgcolor": "#E5ECF6",
           "radialaxis": {
            "gridcolor": "white",
            "linecolor": "white",
            "ticks": ""
           }
          },
          "scene": {
           "xaxis": {
            "backgroundcolor": "#E5ECF6",
            "gridcolor": "white",
            "gridwidth": 2,
            "linecolor": "white",
            "showbackground": true,
            "ticks": "",
            "zerolinecolor": "white"
           },
           "yaxis": {
            "backgroundcolor": "#E5ECF6",
            "gridcolor": "white",
            "gridwidth": 2,
            "linecolor": "white",
            "showbackground": true,
            "ticks": "",
            "zerolinecolor": "white"
           },
           "zaxis": {
            "backgroundcolor": "#E5ECF6",
            "gridcolor": "white",
            "gridwidth": 2,
            "linecolor": "white",
            "showbackground": true,
            "ticks": "",
            "zerolinecolor": "white"
           }
          },
          "shapedefaults": {
           "line": {
            "color": "#2a3f5f"
           }
          },
          "ternary": {
           "aaxis": {
            "gridcolor": "white",
            "linecolor": "white",
            "ticks": ""
           },
           "baxis": {
            "gridcolor": "white",
            "linecolor": "white",
            "ticks": ""
           },
           "bgcolor": "#E5ECF6",
           "caxis": {
            "gridcolor": "white",
            "linecolor": "white",
            "ticks": ""
           }
          },
          "title": {
           "x": 0.05
          },
          "xaxis": {
           "automargin": true,
           "gridcolor": "white",
           "linecolor": "white",
           "ticks": "",
           "title": {
            "standoff": 15
           },
           "zerolinecolor": "white",
           "zerolinewidth": 2
          },
          "yaxis": {
           "automargin": true,
           "gridcolor": "white",
           "linecolor": "white",
           "ticks": "",
           "title": {
            "standoff": 15
           },
           "zerolinecolor": "white",
           "zerolinewidth": 2
          }
         }
        },
        "xaxis": {
         "anchor": "y",
         "domain": [
          0,
          1
         ],
         "title": {
          "text": "word"
         }
        },
        "yaxis": {
         "anchor": "x",
         "domain": [
          0,
          1
         ],
         "title": {
          "text": "frequency"
         }
        }
       }
      },
      "text/html": [
       "<div>                            <div id=\"b8598ccb-beb2-4d78-ab55-31bdfbea749d\" class=\"plotly-graph-div\" style=\"height:400px; width:100%;\"></div>            <script type=\"text/javascript\">                require([\"plotly\"], function(Plotly) {                    window.PLOTLYENV=window.PLOTLYENV || {};                                    if (document.getElementById(\"b8598ccb-beb2-4d78-ab55-31bdfbea749d\")) {                    Plotly.newPlot(                        \"b8598ccb-beb2-4d78-ab55-31bdfbea749d\",                        [{\"alignmentgroup\":\"True\",\"hovertemplate\":\"word=%{x}<br>frequency=%{y}<extra></extra>\",\"legendgroup\":\"\",\"marker\":{\"color\":\"#636efa\",\"pattern\":{\"shape\":\"\"}},\"name\":\"\",\"offsetgroup\":\"\",\"orientation\":\"v\",\"showlegend\":false,\"textposition\":\"auto\",\"type\":\"bar\",\"x\":[\"r\",\"regression\",\"machine-learning\",\"time-series\",\"probability\",\"hypothesis-testing\",\"self-study\",\"distributions\",\"logistic\",\"classification\",\"correlation\",\"statistical-significance\",\"bayesian\",\"anova\",\"normal-distribution\",\"multiple-regression\",\"mixed-model\",\"clustering\",\"neural-networks\",\"mathematical-statistics\"],\"xaxis\":\"x\",\"y\":[13236,10959,6089,5559,4217,3869,3732,3501,3316,2881,2871,2666,2656,2505,2181,2054,1998,1952,1897,1888],\"yaxis\":\"y\"}],                        {\"barmode\":\"relative\",\"height\":400,\"legend\":{\"tracegroupgap\":0},\"margin\":{\"t\":60},\"template\":{\"data\":{\"bar\":[{\"error_x\":{\"color\":\"#2a3f5f\"},\"error_y\":{\"color\":\"#2a3f5f\"},\"marker\":{\"line\":{\"color\":\"#E5ECF6\",\"width\":0.5},\"pattern\":{\"fillmode\":\"overlay\",\"size\":10,\"solidity\":0.2}},\"type\":\"bar\"}],\"barpolar\":[{\"marker\":{\"line\":{\"color\":\"#E5ECF6\",\"width\":0.5},\"pattern\":{\"fillmode\":\"overlay\",\"size\":10,\"solidity\":0.2}},\"type\":\"barpolar\"}],\"carpet\":[{\"aaxis\":{\"endlinecolor\":\"#2a3f5f\",\"gridcolor\":\"white\",\"linecolor\":\"white\",\"minorgridcolor\":\"white\",\"startlinecolor\":\"#2a3f5f\"},\"baxis\":{\"endlinecolor\":\"#2a3f5f\",\"gridcolor\":\"white\",\"linecolor\":\"white\",\"minorgridcolor\":\"white\",\"startlinecolor\":\"#2a3f5f\"},\"type\":\"carpet\"}],\"choropleth\":[{\"colorbar\":{\"outlinewidth\":0,\"ticks\":\"\"},\"type\":\"choropleth\"}],\"contour\":[{\"colorbar\":{\"outlinewidth\":0,\"ticks\":\"\"},\"colorscale\":[[0.0,\"#0d0887\"],[0.1111111111111111,\"#46039f\"],[0.2222222222222222,\"#7201a8\"],[0.3333333333333333,\"#9c179e\"],[0.4444444444444444,\"#bd3786\"],[0.5555555555555556,\"#d8576b\"],[0.6666666666666666,\"#ed7953\"],[0.7777777777777778,\"#fb9f3a\"],[0.8888888888888888,\"#fdca26\"],[1.0,\"#f0f921\"]],\"type\":\"contour\"}],\"contourcarpet\":[{\"colorbar\":{\"outlinewidth\":0,\"ticks\":\"\"},\"type\":\"contourcarpet\"}],\"heatmap\":[{\"colorbar\":{\"outlinewidth\":0,\"ticks\":\"\"},\"colorscale\":[[0.0,\"#0d0887\"],[0.1111111111111111,\"#46039f\"],[0.2222222222222222,\"#7201a8\"],[0.3333333333333333,\"#9c179e\"],[0.4444444444444444,\"#bd3786\"],[0.5555555555555556,\"#d8576b\"],[0.6666666666666666,\"#ed7953\"],[0.7777777777777778,\"#fb9f3a\"],[0.8888888888888888,\"#fdca26\"],[1.0,\"#f0f921\"]],\"type\":\"heatmap\"}],\"heatmapgl\":[{\"colorbar\":{\"outlinewidth\":0,\"ticks\":\"\"},\"colorscale\":[[0.0,\"#0d0887\"],[0.1111111111111111,\"#46039f\"],[0.2222222222222222,\"#7201a8\"],[0.3333333333333333,\"#9c179e\"],[0.4444444444444444,\"#bd3786\"],[0.5555555555555556,\"#d8576b\"],[0.6666666666666666,\"#ed7953\"],[0.7777777777777778,\"#fb9f3a\"],[0.8888888888888888,\"#fdca26\"],[1.0,\"#f0f921\"]],\"type\":\"heatmapgl\"}],\"histogram\":[{\"marker\":{\"pattern\":{\"fillmode\":\"overlay\",\"size\":10,\"solidity\":0.2}},\"type\":\"histogram\"}],\"histogram2d\":[{\"colorbar\":{\"outlinewidth\":0,\"ticks\":\"\"},\"colorscale\":[[0.0,\"#0d0887\"],[0.1111111111111111,\"#46039f\"],[0.2222222222222222,\"#7201a8\"],[0.3333333333333333,\"#9c179e\"],[0.4444444444444444,\"#bd3786\"],[0.5555555555555556,\"#d8576b\"],[0.6666666666666666,\"#ed7953\"],[0.7777777777777778,\"#fb9f3a\"],[0.8888888888888888,\"#fdca26\"],[1.0,\"#f0f921\"]],\"type\":\"histogram2d\"}],\"histogram2dcontour\":[{\"colorbar\":{\"outlinewidth\":0,\"ticks\":\"\"},\"colorscale\":[[0.0,\"#0d0887\"],[0.1111111111111111,\"#46039f\"],[0.2222222222222222,\"#7201a8\"],[0.3333333333333333,\"#9c179e\"],[0.4444444444444444,\"#bd3786\"],[0.5555555555555556,\"#d8576b\"],[0.6666666666666666,\"#ed7953\"],[0.7777777777777778,\"#fb9f3a\"],[0.8888888888888888,\"#fdca26\"],[1.0,\"#f0f921\"]],\"type\":\"histogram2dcontour\"}],\"mesh3d\":[{\"colorbar\":{\"outlinewidth\":0,\"ticks\":\"\"},\"type\":\"mesh3d\"}],\"parcoords\":[{\"line\":{\"colorbar\":{\"outlinewidth\":0,\"ticks\":\"\"}},\"type\":\"parcoords\"}],\"pie\":[{\"automargin\":true,\"type\":\"pie\"}],\"scatter\":[{\"marker\":{\"colorbar\":{\"outlinewidth\":0,\"ticks\":\"\"}},\"type\":\"scatter\"}],\"scatter3d\":[{\"line\":{\"colorbar\":{\"outlinewidth\":0,\"ticks\":\"\"}},\"marker\":{\"colorbar\":{\"outlinewidth\":0,\"ticks\":\"\"}},\"type\":\"scatter3d\"}],\"scattercarpet\":[{\"marker\":{\"colorbar\":{\"outlinewidth\":0,\"ticks\":\"\"}},\"type\":\"scattercarpet\"}],\"scattergeo\":[{\"marker\":{\"colorbar\":{\"outlinewidth\":0,\"ticks\":\"\"}},\"type\":\"scattergeo\"}],\"scattergl\":[{\"marker\":{\"colorbar\":{\"outlinewidth\":0,\"ticks\":\"\"}},\"type\":\"scattergl\"}],\"scattermapbox\":[{\"marker\":{\"colorbar\":{\"outlinewidth\":0,\"ticks\":\"\"}},\"type\":\"scattermapbox\"}],\"scatterpolar\":[{\"marker\":{\"colorbar\":{\"outlinewidth\":0,\"ticks\":\"\"}},\"type\":\"scatterpolar\"}],\"scatterpolargl\":[{\"marker\":{\"colorbar\":{\"outlinewidth\":0,\"ticks\":\"\"}},\"type\":\"scatterpolargl\"}],\"scatterternary\":[{\"marker\":{\"colorbar\":{\"outlinewidth\":0,\"ticks\":\"\"}},\"type\":\"scatterternary\"}],\"surface\":[{\"colorbar\":{\"outlinewidth\":0,\"ticks\":\"\"},\"colorscale\":[[0.0,\"#0d0887\"],[0.1111111111111111,\"#46039f\"],[0.2222222222222222,\"#7201a8\"],[0.3333333333333333,\"#9c179e\"],[0.4444444444444444,\"#bd3786\"],[0.5555555555555556,\"#d8576b\"],[0.6666666666666666,\"#ed7953\"],[0.7777777777777778,\"#fb9f3a\"],[0.8888888888888888,\"#fdca26\"],[1.0,\"#f0f921\"]],\"type\":\"surface\"}],\"table\":[{\"cells\":{\"fill\":{\"color\":\"#EBF0F8\"},\"line\":{\"color\":\"white\"}},\"header\":{\"fill\":{\"color\":\"#C8D4E3\"},\"line\":{\"color\":\"white\"}},\"type\":\"table\"}]},\"layout\":{\"annotationdefaults\":{\"arrowcolor\":\"#2a3f5f\",\"arrowhead\":0,\"arrowwidth\":1},\"autotypenumbers\":\"strict\",\"coloraxis\":{\"colorbar\":{\"outlinewidth\":0,\"ticks\":\"\"}},\"colorscale\":{\"diverging\":[[0,\"#8e0152\"],[0.1,\"#c51b7d\"],[0.2,\"#de77ae\"],[0.3,\"#f1b6da\"],[0.4,\"#fde0ef\"],[0.5,\"#f7f7f7\"],[0.6,\"#e6f5d0\"],[0.7,\"#b8e186\"],[0.8,\"#7fbc41\"],[0.9,\"#4d9221\"],[1,\"#276419\"]],\"sequential\":[[0.0,\"#0d0887\"],[0.1111111111111111,\"#46039f\"],[0.2222222222222222,\"#7201a8\"],[0.3333333333333333,\"#9c179e\"],[0.4444444444444444,\"#bd3786\"],[0.5555555555555556,\"#d8576b\"],[0.6666666666666666,\"#ed7953\"],[0.7777777777777778,\"#fb9f3a\"],[0.8888888888888888,\"#fdca26\"],[1.0,\"#f0f921\"]],\"sequentialminus\":[[0.0,\"#0d0887\"],[0.1111111111111111,\"#46039f\"],[0.2222222222222222,\"#7201a8\"],[0.3333333333333333,\"#9c179e\"],[0.4444444444444444,\"#bd3786\"],[0.5555555555555556,\"#d8576b\"],[0.6666666666666666,\"#ed7953\"],[0.7777777777777778,\"#fb9f3a\"],[0.8888888888888888,\"#fdca26\"],[1.0,\"#f0f921\"]]},\"colorway\":[\"#636efa\",\"#EF553B\",\"#00cc96\",\"#ab63fa\",\"#FFA15A\",\"#19d3f3\",\"#FF6692\",\"#B6E880\",\"#FF97FF\",\"#FECB52\"],\"font\":{\"color\":\"#2a3f5f\"},\"geo\":{\"bgcolor\":\"white\",\"lakecolor\":\"white\",\"landcolor\":\"#E5ECF6\",\"showlakes\":true,\"showland\":true,\"subunitcolor\":\"white\"},\"hoverlabel\":{\"align\":\"left\"},\"hovermode\":\"closest\",\"mapbox\":{\"style\":\"light\"},\"paper_bgcolor\":\"white\",\"plot_bgcolor\":\"#E5ECF6\",\"polar\":{\"angularaxis\":{\"gridcolor\":\"white\",\"linecolor\":\"white\",\"ticks\":\"\"},\"bgcolor\":\"#E5ECF6\",\"radialaxis\":{\"gridcolor\":\"white\",\"linecolor\":\"white\",\"ticks\":\"\"}},\"scene\":{\"xaxis\":{\"backgroundcolor\":\"#E5ECF6\",\"gridcolor\":\"white\",\"gridwidth\":2,\"linecolor\":\"white\",\"showbackground\":true,\"ticks\":\"\",\"zerolinecolor\":\"white\"},\"yaxis\":{\"backgroundcolor\":\"#E5ECF6\",\"gridcolor\":\"white\",\"gridwidth\":2,\"linecolor\":\"white\",\"showbackground\":true,\"ticks\":\"\",\"zerolinecolor\":\"white\"},\"zaxis\":{\"backgroundcolor\":\"#E5ECF6\",\"gridcolor\":\"white\",\"gridwidth\":2,\"linecolor\":\"white\",\"showbackground\":true,\"ticks\":\"\",\"zerolinecolor\":\"white\"}},\"shapedefaults\":{\"line\":{\"color\":\"#2a3f5f\"}},\"ternary\":{\"aaxis\":{\"gridcolor\":\"white\",\"linecolor\":\"white\",\"ticks\":\"\"},\"baxis\":{\"gridcolor\":\"white\",\"linecolor\":\"white\",\"ticks\":\"\"},\"bgcolor\":\"#E5ECF6\",\"caxis\":{\"gridcolor\":\"white\",\"linecolor\":\"white\",\"ticks\":\"\"}},\"title\":{\"x\":0.05},\"xaxis\":{\"automargin\":true,\"gridcolor\":\"white\",\"linecolor\":\"white\",\"ticks\":\"\",\"title\":{\"standoff\":15},\"zerolinecolor\":\"white\",\"zerolinewidth\":2},\"yaxis\":{\"automargin\":true,\"gridcolor\":\"white\",\"linecolor\":\"white\",\"ticks\":\"\",\"title\":{\"standoff\":15},\"zerolinecolor\":\"white\",\"zerolinewidth\":2}}},\"xaxis\":{\"anchor\":\"y\",\"domain\":[0.0,1.0],\"title\":{\"text\":\"word\"}},\"yaxis\":{\"anchor\":\"x\",\"domain\":[0.0,1.0],\"title\":{\"text\":\"frequency\"}}},                        {\"responsive\": true}                    ).then(function(){\n",
       "                            \n",
       "var gd = document.getElementById('b8598ccb-beb2-4d78-ab55-31bdfbea749d');\n",
       "var x = new MutationObserver(function (mutations, observer) {{\n",
       "        var display = window.getComputedStyle(gd).display;\n",
       "        if (!display || display === 'none') {{\n",
       "            console.log([gd, 'removed!']);\n",
       "            Plotly.purge(gd);\n",
       "            observer.disconnect();\n",
       "        }}\n",
       "}});\n",
       "\n",
       "// Listen for the removal of the full notebook cells\n",
       "var notebookContainer = gd.closest('#notebook-container');\n",
       "if (notebookContainer) {{\n",
       "    x.observe(notebookContainer, {childList: true});\n",
       "}}\n",
       "\n",
       "// Listen for the clearing of the current output cell\n",
       "var outputEl = gd.closest('.output');\n",
       "if (outputEl) {{\n",
       "    x.observe(outputEl, {childList: true});\n",
       "}}\n",
       "\n",
       "                        })                };                });            </script>        </div>"
      ]
     },
     "metadata": {},
     "output_type": "display_data"
    }
   ],
   "source": [
    "import plotly.express as px\n",
    "fig = px.bar(tag_df_sorted.head(20), x='word', y='frequency',\n",
    "             labels={'Top 20 Tags':'Top 20 Tags'}, height=400)\n",
    "fig.show()"
   ]
  },
  {
   "cell_type": "code",
   "execution_count": 129,
   "metadata": {},
   "outputs": [
    {
     "name": "stdout",
     "output_type": "stream",
     "text": [
      "number of tags 10-->37.51087219530059\n",
      "number of tags 20-->52.33498786891892\n",
      "number of tags 30-->62.37272174373663\n",
      "number of tags 40-->70.3445750197825\n",
      "number of tags 50-->76.81622883600478\n",
      "number of tags 60-->82.73397291270199\n",
      "number of tags 70-->88.17432134612491\n",
      "number of tags 80-->92.53235499924793\n",
      "number of tags 90-->96.52416733698247\n",
      "number of tags 100-->100.0\n"
     ]
    }
   ],
   "source": [
    "frq=[]\n",
    "for x in range(1,101):\n",
    "    if x%10==0:\n",
    "        value_explained=(tag_df_sorted[\"frequency\"].head(x).sum()/tag_df_sorted[\"frequency\"].sum())*100\n",
    "        print(\"number of tags {}-->{}\".format(x, value_explained))\n",
    "        frq.append(value_explained)\n",
    "    else:\n",
    "        frq.append((tag_df_sorted[\"frequency\"].head(x).sum()/tag_df_sorted[\"frequency\"].sum())*100)"
   ]
  },
  {
   "cell_type": "code",
   "execution_count": 130,
   "metadata": {},
   "outputs": [
    {
     "data": {
      "text/plain": [
       "138258"
      ]
     },
     "execution_count": 130,
     "metadata": {},
     "output_type": "execute_result"
    }
   ],
   "source": [
    "tag_df_sorted[\"frequency\"].head(75).sum()"
   ]
  },
  {
   "cell_type": "code",
   "execution_count": 131,
   "metadata": {},
   "outputs": [],
   "source": [
    "# tag_df_sorted[\"frequency\"].sum()"
   ]
  },
  {
   "cell_type": "code",
   "execution_count": 132,
   "metadata": {},
   "outputs": [],
   "source": [
    "# 138258/152913"
   ]
  },
  {
   "cell_type": "code",
   "execution_count": null,
   "metadata": {},
   "outputs": [],
   "source": []
  },
  {
   "cell_type": "code",
   "execution_count": 133,
   "metadata": {},
   "outputs": [],
   "source": [
    "# tag_df_sorted[\"frequency\"].head(80).sum()"
   ]
  },
  {
   "cell_type": "code",
   "execution_count": 134,
   "metadata": {},
   "outputs": [],
   "source": [
    "# tag_df_sorted[\"frequency\"].sum()"
   ]
  },
  {
   "cell_type": "code",
   "execution_count": 135,
   "metadata": {},
   "outputs": [],
   "source": [
    "# 141494/152913"
   ]
  },
  {
   "cell_type": "code",
   "execution_count": null,
   "metadata": {},
   "outputs": [],
   "source": []
  },
  {
   "cell_type": "code",
   "execution_count": 136,
   "metadata": {},
   "outputs": [
    {
     "data": {
      "application/vnd.plotly.v1+json": {
       "config": {
        "plotlyServerURL": "https://plot.ly"
       },
       "data": [
        {
         "hovertemplate": "variable=0<br>index=%{x}<br>value=%{y}<extra></extra>",
         "legendgroup": "0",
         "line": {
          "color": "#636efa",
          "dash": "solid"
         },
         "mode": "lines",
         "name": "0",
         "orientation": "v",
         "showlegend": true,
         "type": "scatter",
         "x": [
          0,
          1,
          2,
          3,
          4,
          5,
          6,
          7,
          8,
          9,
          10,
          11,
          12,
          13,
          14,
          15,
          16,
          17,
          18,
          19,
          20,
          21,
          22,
          23,
          24,
          25,
          26,
          27,
          28,
          29,
          30,
          31,
          32,
          33,
          34,
          35,
          36,
          37,
          38,
          39,
          40,
          41,
          42,
          43,
          44,
          45,
          46,
          47,
          48,
          49,
          50,
          51,
          52,
          53,
          54,
          55,
          56,
          57,
          58,
          59,
          60,
          61,
          62,
          63,
          64,
          65,
          66,
          67,
          68,
          69,
          70,
          71,
          72,
          73,
          74,
          75,
          76,
          77,
          78,
          79,
          80,
          81,
          82,
          83,
          84,
          85,
          86,
          87,
          88,
          89,
          90,
          91,
          92,
          93,
          94,
          95,
          96,
          97,
          98,
          99
         ],
         "xaxis": "x",
         "y": [
          8.655902375860784,
          15.822722724686585,
          19.80472556290178,
          23.440126084767154,
          26.1979033829694,
          28.728100292323084,
          31.168703772733515,
          33.45824096054619,
          35.62679432095375,
          37.51087219530059,
          39.38841040330122,
          41.13188545120428,
          42.86882083276111,
          44.50700725248998,
          45.93330848260121,
          47.27655595011542,
          48.583181286090785,
          49.85972415687351,
          51.10029886275203,
          52.33498786891892,
          53.496432612008135,
          54.61013779076992,
          55.6656399390503,
          56.69629135521505,
          57.709285672245,
          58.71181652312099,
          59.641757077553905,
          60.56908176544833,
          61.48136522074644,
          62.37272174373663,
          63.25165290066901,
          64.12469835788977,
          64.97223911636029,
          65.8112783085807,
          66.6359302348394,
          67.42657589609779,
          68.2041422246637,
          68.93396898890218,
          69.64090692092888,
          70.3445750197825,
          71.03581775257827,
          71.7257525521048,
          72.40587785211198,
          73.05788258683043,
          73.70465558847188,
          74.33638735751703,
          74.96092549358131,
          75.58219379647251,
          76.2008462328252,
          76.81622883600478,
          77.42899557264589,
          78.04045437601773,
          78.65191317938958,
          79.25487041651135,
          79.85455782046,
          80.44181985835083,
          81.02908189624165,
          81.6019566681708,
          82.1682917737537,
          82.73397291270199,
          83.29638421847717,
          83.85029395800227,
          84.40093386435424,
          84.95157377070622,
          85.50090574378895,
          86.04827581696782,
          86.59237605697358,
          87.13189853053697,
          87.66422737111952,
          88.17432134612491,
          88.66152648891854,
          89.10491586719246,
          89.54699731219713,
          89.98253909085558,
          90.41611896961017,
          90.84381314865315,
          91.2701993944269,
          91.69200787375829,
          92.11250841982041,
          92.53235499924793,
          92.9476238122331,
          93.35896882541053,
          93.77031383858795,
          94.17904298522689,
          94.5871181652312,
          94.99061557879317,
          95.38299555956655,
          95.77079777389757,
          96.15140635524776,
          96.52416733698247,
          96.89627435208256,
          97.2670734339134,
          97.63787251574425,
          97.99820813142114,
          98.34481044777095,
          98.68094929796682,
          99.0144722816242,
          99.34407146547383,
          99.67301668268885,
          100
         ],
         "yaxis": "y"
        }
       ],
       "layout": {
        "legend": {
         "title": {
          "text": "variable"
         },
         "tracegroupgap": 0
        },
        "margin": {
         "t": 60
        },
        "template": {
         "data": {
          "bar": [
           {
            "error_x": {
             "color": "#2a3f5f"
            },
            "error_y": {
             "color": "#2a3f5f"
            },
            "marker": {
             "line": {
              "color": "#E5ECF6",
              "width": 0.5
             },
             "pattern": {
              "fillmode": "overlay",
              "size": 10,
              "solidity": 0.2
             }
            },
            "type": "bar"
           }
          ],
          "barpolar": [
           {
            "marker": {
             "line": {
              "color": "#E5ECF6",
              "width": 0.5
             },
             "pattern": {
              "fillmode": "overlay",
              "size": 10,
              "solidity": 0.2
             }
            },
            "type": "barpolar"
           }
          ],
          "carpet": [
           {
            "aaxis": {
             "endlinecolor": "#2a3f5f",
             "gridcolor": "white",
             "linecolor": "white",
             "minorgridcolor": "white",
             "startlinecolor": "#2a3f5f"
            },
            "baxis": {
             "endlinecolor": "#2a3f5f",
             "gridcolor": "white",
             "linecolor": "white",
             "minorgridcolor": "white",
             "startlinecolor": "#2a3f5f"
            },
            "type": "carpet"
           }
          ],
          "choropleth": [
           {
            "colorbar": {
             "outlinewidth": 0,
             "ticks": ""
            },
            "type": "choropleth"
           }
          ],
          "contour": [
           {
            "colorbar": {
             "outlinewidth": 0,
             "ticks": ""
            },
            "colorscale": [
             [
              0,
              "#0d0887"
             ],
             [
              0.1111111111111111,
              "#46039f"
             ],
             [
              0.2222222222222222,
              "#7201a8"
             ],
             [
              0.3333333333333333,
              "#9c179e"
             ],
             [
              0.4444444444444444,
              "#bd3786"
             ],
             [
              0.5555555555555556,
              "#d8576b"
             ],
             [
              0.6666666666666666,
              "#ed7953"
             ],
             [
              0.7777777777777778,
              "#fb9f3a"
             ],
             [
              0.8888888888888888,
              "#fdca26"
             ],
             [
              1,
              "#f0f921"
             ]
            ],
            "type": "contour"
           }
          ],
          "contourcarpet": [
           {
            "colorbar": {
             "outlinewidth": 0,
             "ticks": ""
            },
            "type": "contourcarpet"
           }
          ],
          "heatmap": [
           {
            "colorbar": {
             "outlinewidth": 0,
             "ticks": ""
            },
            "colorscale": [
             [
              0,
              "#0d0887"
             ],
             [
              0.1111111111111111,
              "#46039f"
             ],
             [
              0.2222222222222222,
              "#7201a8"
             ],
             [
              0.3333333333333333,
              "#9c179e"
             ],
             [
              0.4444444444444444,
              "#bd3786"
             ],
             [
              0.5555555555555556,
              "#d8576b"
             ],
             [
              0.6666666666666666,
              "#ed7953"
             ],
             [
              0.7777777777777778,
              "#fb9f3a"
             ],
             [
              0.8888888888888888,
              "#fdca26"
             ],
             [
              1,
              "#f0f921"
             ]
            ],
            "type": "heatmap"
           }
          ],
          "heatmapgl": [
           {
            "colorbar": {
             "outlinewidth": 0,
             "ticks": ""
            },
            "colorscale": [
             [
              0,
              "#0d0887"
             ],
             [
              0.1111111111111111,
              "#46039f"
             ],
             [
              0.2222222222222222,
              "#7201a8"
             ],
             [
              0.3333333333333333,
              "#9c179e"
             ],
             [
              0.4444444444444444,
              "#bd3786"
             ],
             [
              0.5555555555555556,
              "#d8576b"
             ],
             [
              0.6666666666666666,
              "#ed7953"
             ],
             [
              0.7777777777777778,
              "#fb9f3a"
             ],
             [
              0.8888888888888888,
              "#fdca26"
             ],
             [
              1,
              "#f0f921"
             ]
            ],
            "type": "heatmapgl"
           }
          ],
          "histogram": [
           {
            "marker": {
             "pattern": {
              "fillmode": "overlay",
              "size": 10,
              "solidity": 0.2
             }
            },
            "type": "histogram"
           }
          ],
          "histogram2d": [
           {
            "colorbar": {
             "outlinewidth": 0,
             "ticks": ""
            },
            "colorscale": [
             [
              0,
              "#0d0887"
             ],
             [
              0.1111111111111111,
              "#46039f"
             ],
             [
              0.2222222222222222,
              "#7201a8"
             ],
             [
              0.3333333333333333,
              "#9c179e"
             ],
             [
              0.4444444444444444,
              "#bd3786"
             ],
             [
              0.5555555555555556,
              "#d8576b"
             ],
             [
              0.6666666666666666,
              "#ed7953"
             ],
             [
              0.7777777777777778,
              "#fb9f3a"
             ],
             [
              0.8888888888888888,
              "#fdca26"
             ],
             [
              1,
              "#f0f921"
             ]
            ],
            "type": "histogram2d"
           }
          ],
          "histogram2dcontour": [
           {
            "colorbar": {
             "outlinewidth": 0,
             "ticks": ""
            },
            "colorscale": [
             [
              0,
              "#0d0887"
             ],
             [
              0.1111111111111111,
              "#46039f"
             ],
             [
              0.2222222222222222,
              "#7201a8"
             ],
             [
              0.3333333333333333,
              "#9c179e"
             ],
             [
              0.4444444444444444,
              "#bd3786"
             ],
             [
              0.5555555555555556,
              "#d8576b"
             ],
             [
              0.6666666666666666,
              "#ed7953"
             ],
             [
              0.7777777777777778,
              "#fb9f3a"
             ],
             [
              0.8888888888888888,
              "#fdca26"
             ],
             [
              1,
              "#f0f921"
             ]
            ],
            "type": "histogram2dcontour"
           }
          ],
          "mesh3d": [
           {
            "colorbar": {
             "outlinewidth": 0,
             "ticks": ""
            },
            "type": "mesh3d"
           }
          ],
          "parcoords": [
           {
            "line": {
             "colorbar": {
              "outlinewidth": 0,
              "ticks": ""
             }
            },
            "type": "parcoords"
           }
          ],
          "pie": [
           {
            "automargin": true,
            "type": "pie"
           }
          ],
          "scatter": [
           {
            "marker": {
             "colorbar": {
              "outlinewidth": 0,
              "ticks": ""
             }
            },
            "type": "scatter"
           }
          ],
          "scatter3d": [
           {
            "line": {
             "colorbar": {
              "outlinewidth": 0,
              "ticks": ""
             }
            },
            "marker": {
             "colorbar": {
              "outlinewidth": 0,
              "ticks": ""
             }
            },
            "type": "scatter3d"
           }
          ],
          "scattercarpet": [
           {
            "marker": {
             "colorbar": {
              "outlinewidth": 0,
              "ticks": ""
             }
            },
            "type": "scattercarpet"
           }
          ],
          "scattergeo": [
           {
            "marker": {
             "colorbar": {
              "outlinewidth": 0,
              "ticks": ""
             }
            },
            "type": "scattergeo"
           }
          ],
          "scattergl": [
           {
            "marker": {
             "colorbar": {
              "outlinewidth": 0,
              "ticks": ""
             }
            },
            "type": "scattergl"
           }
          ],
          "scattermapbox": [
           {
            "marker": {
             "colorbar": {
              "outlinewidth": 0,
              "ticks": ""
             }
            },
            "type": "scattermapbox"
           }
          ],
          "scatterpolar": [
           {
            "marker": {
             "colorbar": {
              "outlinewidth": 0,
              "ticks": ""
             }
            },
            "type": "scatterpolar"
           }
          ],
          "scatterpolargl": [
           {
            "marker": {
             "colorbar": {
              "outlinewidth": 0,
              "ticks": ""
             }
            },
            "type": "scatterpolargl"
           }
          ],
          "scatterternary": [
           {
            "marker": {
             "colorbar": {
              "outlinewidth": 0,
              "ticks": ""
             }
            },
            "type": "scatterternary"
           }
          ],
          "surface": [
           {
            "colorbar": {
             "outlinewidth": 0,
             "ticks": ""
            },
            "colorscale": [
             [
              0,
              "#0d0887"
             ],
             [
              0.1111111111111111,
              "#46039f"
             ],
             [
              0.2222222222222222,
              "#7201a8"
             ],
             [
              0.3333333333333333,
              "#9c179e"
             ],
             [
              0.4444444444444444,
              "#bd3786"
             ],
             [
              0.5555555555555556,
              "#d8576b"
             ],
             [
              0.6666666666666666,
              "#ed7953"
             ],
             [
              0.7777777777777778,
              "#fb9f3a"
             ],
             [
              0.8888888888888888,
              "#fdca26"
             ],
             [
              1,
              "#f0f921"
             ]
            ],
            "type": "surface"
           }
          ],
          "table": [
           {
            "cells": {
             "fill": {
              "color": "#EBF0F8"
             },
             "line": {
              "color": "white"
             }
            },
            "header": {
             "fill": {
              "color": "#C8D4E3"
             },
             "line": {
              "color": "white"
             }
            },
            "type": "table"
           }
          ]
         },
         "layout": {
          "annotationdefaults": {
           "arrowcolor": "#2a3f5f",
           "arrowhead": 0,
           "arrowwidth": 1
          },
          "autotypenumbers": "strict",
          "coloraxis": {
           "colorbar": {
            "outlinewidth": 0,
            "ticks": ""
           }
          },
          "colorscale": {
           "diverging": [
            [
             0,
             "#8e0152"
            ],
            [
             0.1,
             "#c51b7d"
            ],
            [
             0.2,
             "#de77ae"
            ],
            [
             0.3,
             "#f1b6da"
            ],
            [
             0.4,
             "#fde0ef"
            ],
            [
             0.5,
             "#f7f7f7"
            ],
            [
             0.6,
             "#e6f5d0"
            ],
            [
             0.7,
             "#b8e186"
            ],
            [
             0.8,
             "#7fbc41"
            ],
            [
             0.9,
             "#4d9221"
            ],
            [
             1,
             "#276419"
            ]
           ],
           "sequential": [
            [
             0,
             "#0d0887"
            ],
            [
             0.1111111111111111,
             "#46039f"
            ],
            [
             0.2222222222222222,
             "#7201a8"
            ],
            [
             0.3333333333333333,
             "#9c179e"
            ],
            [
             0.4444444444444444,
             "#bd3786"
            ],
            [
             0.5555555555555556,
             "#d8576b"
            ],
            [
             0.6666666666666666,
             "#ed7953"
            ],
            [
             0.7777777777777778,
             "#fb9f3a"
            ],
            [
             0.8888888888888888,
             "#fdca26"
            ],
            [
             1,
             "#f0f921"
            ]
           ],
           "sequentialminus": [
            [
             0,
             "#0d0887"
            ],
            [
             0.1111111111111111,
             "#46039f"
            ],
            [
             0.2222222222222222,
             "#7201a8"
            ],
            [
             0.3333333333333333,
             "#9c179e"
            ],
            [
             0.4444444444444444,
             "#bd3786"
            ],
            [
             0.5555555555555556,
             "#d8576b"
            ],
            [
             0.6666666666666666,
             "#ed7953"
            ],
            [
             0.7777777777777778,
             "#fb9f3a"
            ],
            [
             0.8888888888888888,
             "#fdca26"
            ],
            [
             1,
             "#f0f921"
            ]
           ]
          },
          "colorway": [
           "#636efa",
           "#EF553B",
           "#00cc96",
           "#ab63fa",
           "#FFA15A",
           "#19d3f3",
           "#FF6692",
           "#B6E880",
           "#FF97FF",
           "#FECB52"
          ],
          "font": {
           "color": "#2a3f5f"
          },
          "geo": {
           "bgcolor": "white",
           "lakecolor": "white",
           "landcolor": "#E5ECF6",
           "showlakes": true,
           "showland": true,
           "subunitcolor": "white"
          },
          "hoverlabel": {
           "align": "left"
          },
          "hovermode": "closest",
          "mapbox": {
           "style": "light"
          },
          "paper_bgcolor": "white",
          "plot_bgcolor": "#E5ECF6",
          "polar": {
           "angularaxis": {
            "gridcolor": "white",
            "linecolor": "white",
            "ticks": ""
           },
           "bgcolor": "#E5ECF6",
           "radialaxis": {
            "gridcolor": "white",
            "linecolor": "white",
            "ticks": ""
           }
          },
          "scene": {
           "xaxis": {
            "backgroundcolor": "#E5ECF6",
            "gridcolor": "white",
            "gridwidth": 2,
            "linecolor": "white",
            "showbackground": true,
            "ticks": "",
            "zerolinecolor": "white"
           },
           "yaxis": {
            "backgroundcolor": "#E5ECF6",
            "gridcolor": "white",
            "gridwidth": 2,
            "linecolor": "white",
            "showbackground": true,
            "ticks": "",
            "zerolinecolor": "white"
           },
           "zaxis": {
            "backgroundcolor": "#E5ECF6",
            "gridcolor": "white",
            "gridwidth": 2,
            "linecolor": "white",
            "showbackground": true,
            "ticks": "",
            "zerolinecolor": "white"
           }
          },
          "shapedefaults": {
           "line": {
            "color": "#2a3f5f"
           }
          },
          "ternary": {
           "aaxis": {
            "gridcolor": "white",
            "linecolor": "white",
            "ticks": ""
           },
           "baxis": {
            "gridcolor": "white",
            "linecolor": "white",
            "ticks": ""
           },
           "bgcolor": "#E5ECF6",
           "caxis": {
            "gridcolor": "white",
            "linecolor": "white",
            "ticks": ""
           }
          },
          "title": {
           "x": 0.05
          },
          "xaxis": {
           "automargin": true,
           "gridcolor": "white",
           "linecolor": "white",
           "ticks": "",
           "title": {
            "standoff": 15
           },
           "zerolinecolor": "white",
           "zerolinewidth": 2
          },
          "yaxis": {
           "automargin": true,
           "gridcolor": "white",
           "linecolor": "white",
           "ticks": "",
           "title": {
            "standoff": 15
           },
           "zerolinecolor": "white",
           "zerolinewidth": 2
          }
         }
        },
        "xaxis": {
         "anchor": "y",
         "domain": [
          0,
          1
         ],
         "title": {
          "text": "index"
         }
        },
        "yaxis": {
         "anchor": "x",
         "domain": [
          0,
          1
         ],
         "title": {
          "text": "value"
         }
        }
       }
      },
      "text/html": [
       "<div>                            <div id=\"2e61beb1-73c6-493f-a512-1336f1c68fd0\" class=\"plotly-graph-div\" style=\"height:525px; width:100%;\"></div>            <script type=\"text/javascript\">                require([\"plotly\"], function(Plotly) {                    window.PLOTLYENV=window.PLOTLYENV || {};                                    if (document.getElementById(\"2e61beb1-73c6-493f-a512-1336f1c68fd0\")) {                    Plotly.newPlot(                        \"2e61beb1-73c6-493f-a512-1336f1c68fd0\",                        [{\"hovertemplate\":\"variable=0<br>index=%{x}<br>value=%{y}<extra></extra>\",\"legendgroup\":\"0\",\"line\":{\"color\":\"#636efa\",\"dash\":\"solid\"},\"mode\":\"lines\",\"name\":\"0\",\"orientation\":\"v\",\"showlegend\":true,\"type\":\"scatter\",\"x\":[0,1,2,3,4,5,6,7,8,9,10,11,12,13,14,15,16,17,18,19,20,21,22,23,24,25,26,27,28,29,30,31,32,33,34,35,36,37,38,39,40,41,42,43,44,45,46,47,48,49,50,51,52,53,54,55,56,57,58,59,60,61,62,63,64,65,66,67,68,69,70,71,72,73,74,75,76,77,78,79,80,81,82,83,84,85,86,87,88,89,90,91,92,93,94,95,96,97,98,99],\"xaxis\":\"x\",\"y\":[8.655902375860784,15.822722724686585,19.80472556290178,23.440126084767154,26.1979033829694,28.728100292323084,31.168703772733515,33.45824096054619,35.62679432095375,37.51087219530059,39.38841040330122,41.13188545120428,42.86882083276111,44.50700725248998,45.93330848260121,47.27655595011542,48.583181286090785,49.85972415687351,51.10029886275203,52.33498786891892,53.496432612008135,54.61013779076992,55.6656399390503,56.69629135521505,57.709285672245,58.71181652312099,59.641757077553905,60.56908176544833,61.48136522074644,62.37272174373663,63.25165290066901,64.12469835788977,64.97223911636029,65.8112783085807,66.6359302348394,67.42657589609779,68.2041422246637,68.93396898890218,69.64090692092888,70.3445750197825,71.03581775257827,71.7257525521048,72.40587785211198,73.05788258683043,73.70465558847188,74.33638735751703,74.96092549358131,75.58219379647251,76.2008462328252,76.81622883600478,77.42899557264589,78.04045437601773,78.65191317938958,79.25487041651135,79.85455782046,80.44181985835083,81.02908189624165,81.6019566681708,82.1682917737537,82.73397291270199,83.29638421847717,83.85029395800227,84.40093386435424,84.95157377070622,85.50090574378895,86.04827581696782,86.59237605697358,87.13189853053697,87.66422737111952,88.17432134612491,88.66152648891854,89.10491586719246,89.54699731219713,89.98253909085558,90.41611896961017,90.84381314865315,91.2701993944269,91.69200787375829,92.11250841982041,92.53235499924793,92.9476238122331,93.35896882541053,93.77031383858795,94.17904298522689,94.5871181652312,94.99061557879317,95.38299555956655,95.77079777389757,96.15140635524776,96.52416733698247,96.89627435208256,97.2670734339134,97.63787251574425,97.99820813142114,98.34481044777095,98.68094929796682,99.0144722816242,99.34407146547383,99.67301668268885,100.0],\"yaxis\":\"y\"}],                        {\"legend\":{\"title\":{\"text\":\"variable\"},\"tracegroupgap\":0},\"margin\":{\"t\":60},\"template\":{\"data\":{\"bar\":[{\"error_x\":{\"color\":\"#2a3f5f\"},\"error_y\":{\"color\":\"#2a3f5f\"},\"marker\":{\"line\":{\"color\":\"#E5ECF6\",\"width\":0.5},\"pattern\":{\"fillmode\":\"overlay\",\"size\":10,\"solidity\":0.2}},\"type\":\"bar\"}],\"barpolar\":[{\"marker\":{\"line\":{\"color\":\"#E5ECF6\",\"width\":0.5},\"pattern\":{\"fillmode\":\"overlay\",\"size\":10,\"solidity\":0.2}},\"type\":\"barpolar\"}],\"carpet\":[{\"aaxis\":{\"endlinecolor\":\"#2a3f5f\",\"gridcolor\":\"white\",\"linecolor\":\"white\",\"minorgridcolor\":\"white\",\"startlinecolor\":\"#2a3f5f\"},\"baxis\":{\"endlinecolor\":\"#2a3f5f\",\"gridcolor\":\"white\",\"linecolor\":\"white\",\"minorgridcolor\":\"white\",\"startlinecolor\":\"#2a3f5f\"},\"type\":\"carpet\"}],\"choropleth\":[{\"colorbar\":{\"outlinewidth\":0,\"ticks\":\"\"},\"type\":\"choropleth\"}],\"contour\":[{\"colorbar\":{\"outlinewidth\":0,\"ticks\":\"\"},\"colorscale\":[[0.0,\"#0d0887\"],[0.1111111111111111,\"#46039f\"],[0.2222222222222222,\"#7201a8\"],[0.3333333333333333,\"#9c179e\"],[0.4444444444444444,\"#bd3786\"],[0.5555555555555556,\"#d8576b\"],[0.6666666666666666,\"#ed7953\"],[0.7777777777777778,\"#fb9f3a\"],[0.8888888888888888,\"#fdca26\"],[1.0,\"#f0f921\"]],\"type\":\"contour\"}],\"contourcarpet\":[{\"colorbar\":{\"outlinewidth\":0,\"ticks\":\"\"},\"type\":\"contourcarpet\"}],\"heatmap\":[{\"colorbar\":{\"outlinewidth\":0,\"ticks\":\"\"},\"colorscale\":[[0.0,\"#0d0887\"],[0.1111111111111111,\"#46039f\"],[0.2222222222222222,\"#7201a8\"],[0.3333333333333333,\"#9c179e\"],[0.4444444444444444,\"#bd3786\"],[0.5555555555555556,\"#d8576b\"],[0.6666666666666666,\"#ed7953\"],[0.7777777777777778,\"#fb9f3a\"],[0.8888888888888888,\"#fdca26\"],[1.0,\"#f0f921\"]],\"type\":\"heatmap\"}],\"heatmapgl\":[{\"colorbar\":{\"outlinewidth\":0,\"ticks\":\"\"},\"colorscale\":[[0.0,\"#0d0887\"],[0.1111111111111111,\"#46039f\"],[0.2222222222222222,\"#7201a8\"],[0.3333333333333333,\"#9c179e\"],[0.4444444444444444,\"#bd3786\"],[0.5555555555555556,\"#d8576b\"],[0.6666666666666666,\"#ed7953\"],[0.7777777777777778,\"#fb9f3a\"],[0.8888888888888888,\"#fdca26\"],[1.0,\"#f0f921\"]],\"type\":\"heatmapgl\"}],\"histogram\":[{\"marker\":{\"pattern\":{\"fillmode\":\"overlay\",\"size\":10,\"solidity\":0.2}},\"type\":\"histogram\"}],\"histogram2d\":[{\"colorbar\":{\"outlinewidth\":0,\"ticks\":\"\"},\"colorscale\":[[0.0,\"#0d0887\"],[0.1111111111111111,\"#46039f\"],[0.2222222222222222,\"#7201a8\"],[0.3333333333333333,\"#9c179e\"],[0.4444444444444444,\"#bd3786\"],[0.5555555555555556,\"#d8576b\"],[0.6666666666666666,\"#ed7953\"],[0.7777777777777778,\"#fb9f3a\"],[0.8888888888888888,\"#fdca26\"],[1.0,\"#f0f921\"]],\"type\":\"histogram2d\"}],\"histogram2dcontour\":[{\"colorbar\":{\"outlinewidth\":0,\"ticks\":\"\"},\"colorscale\":[[0.0,\"#0d0887\"],[0.1111111111111111,\"#46039f\"],[0.2222222222222222,\"#7201a8\"],[0.3333333333333333,\"#9c179e\"],[0.4444444444444444,\"#bd3786\"],[0.5555555555555556,\"#d8576b\"],[0.6666666666666666,\"#ed7953\"],[0.7777777777777778,\"#fb9f3a\"],[0.8888888888888888,\"#fdca26\"],[1.0,\"#f0f921\"]],\"type\":\"histogram2dcontour\"}],\"mesh3d\":[{\"colorbar\":{\"outlinewidth\":0,\"ticks\":\"\"},\"type\":\"mesh3d\"}],\"parcoords\":[{\"line\":{\"colorbar\":{\"outlinewidth\":0,\"ticks\":\"\"}},\"type\":\"parcoords\"}],\"pie\":[{\"automargin\":true,\"type\":\"pie\"}],\"scatter\":[{\"marker\":{\"colorbar\":{\"outlinewidth\":0,\"ticks\":\"\"}},\"type\":\"scatter\"}],\"scatter3d\":[{\"line\":{\"colorbar\":{\"outlinewidth\":0,\"ticks\":\"\"}},\"marker\":{\"colorbar\":{\"outlinewidth\":0,\"ticks\":\"\"}},\"type\":\"scatter3d\"}],\"scattercarpet\":[{\"marker\":{\"colorbar\":{\"outlinewidth\":0,\"ticks\":\"\"}},\"type\":\"scattercarpet\"}],\"scattergeo\":[{\"marker\":{\"colorbar\":{\"outlinewidth\":0,\"ticks\":\"\"}},\"type\":\"scattergeo\"}],\"scattergl\":[{\"marker\":{\"colorbar\":{\"outlinewidth\":0,\"ticks\":\"\"}},\"type\":\"scattergl\"}],\"scattermapbox\":[{\"marker\":{\"colorbar\":{\"outlinewidth\":0,\"ticks\":\"\"}},\"type\":\"scattermapbox\"}],\"scatterpolar\":[{\"marker\":{\"colorbar\":{\"outlinewidth\":0,\"ticks\":\"\"}},\"type\":\"scatterpolar\"}],\"scatterpolargl\":[{\"marker\":{\"colorbar\":{\"outlinewidth\":0,\"ticks\":\"\"}},\"type\":\"scatterpolargl\"}],\"scatterternary\":[{\"marker\":{\"colorbar\":{\"outlinewidth\":0,\"ticks\":\"\"}},\"type\":\"scatterternary\"}],\"surface\":[{\"colorbar\":{\"outlinewidth\":0,\"ticks\":\"\"},\"colorscale\":[[0.0,\"#0d0887\"],[0.1111111111111111,\"#46039f\"],[0.2222222222222222,\"#7201a8\"],[0.3333333333333333,\"#9c179e\"],[0.4444444444444444,\"#bd3786\"],[0.5555555555555556,\"#d8576b\"],[0.6666666666666666,\"#ed7953\"],[0.7777777777777778,\"#fb9f3a\"],[0.8888888888888888,\"#fdca26\"],[1.0,\"#f0f921\"]],\"type\":\"surface\"}],\"table\":[{\"cells\":{\"fill\":{\"color\":\"#EBF0F8\"},\"line\":{\"color\":\"white\"}},\"header\":{\"fill\":{\"color\":\"#C8D4E3\"},\"line\":{\"color\":\"white\"}},\"type\":\"table\"}]},\"layout\":{\"annotationdefaults\":{\"arrowcolor\":\"#2a3f5f\",\"arrowhead\":0,\"arrowwidth\":1},\"autotypenumbers\":\"strict\",\"coloraxis\":{\"colorbar\":{\"outlinewidth\":0,\"ticks\":\"\"}},\"colorscale\":{\"diverging\":[[0,\"#8e0152\"],[0.1,\"#c51b7d\"],[0.2,\"#de77ae\"],[0.3,\"#f1b6da\"],[0.4,\"#fde0ef\"],[0.5,\"#f7f7f7\"],[0.6,\"#e6f5d0\"],[0.7,\"#b8e186\"],[0.8,\"#7fbc41\"],[0.9,\"#4d9221\"],[1,\"#276419\"]],\"sequential\":[[0.0,\"#0d0887\"],[0.1111111111111111,\"#46039f\"],[0.2222222222222222,\"#7201a8\"],[0.3333333333333333,\"#9c179e\"],[0.4444444444444444,\"#bd3786\"],[0.5555555555555556,\"#d8576b\"],[0.6666666666666666,\"#ed7953\"],[0.7777777777777778,\"#fb9f3a\"],[0.8888888888888888,\"#fdca26\"],[1.0,\"#f0f921\"]],\"sequentialminus\":[[0.0,\"#0d0887\"],[0.1111111111111111,\"#46039f\"],[0.2222222222222222,\"#7201a8\"],[0.3333333333333333,\"#9c179e\"],[0.4444444444444444,\"#bd3786\"],[0.5555555555555556,\"#d8576b\"],[0.6666666666666666,\"#ed7953\"],[0.7777777777777778,\"#fb9f3a\"],[0.8888888888888888,\"#fdca26\"],[1.0,\"#f0f921\"]]},\"colorway\":[\"#636efa\",\"#EF553B\",\"#00cc96\",\"#ab63fa\",\"#FFA15A\",\"#19d3f3\",\"#FF6692\",\"#B6E880\",\"#FF97FF\",\"#FECB52\"],\"font\":{\"color\":\"#2a3f5f\"},\"geo\":{\"bgcolor\":\"white\",\"lakecolor\":\"white\",\"landcolor\":\"#E5ECF6\",\"showlakes\":true,\"showland\":true,\"subunitcolor\":\"white\"},\"hoverlabel\":{\"align\":\"left\"},\"hovermode\":\"closest\",\"mapbox\":{\"style\":\"light\"},\"paper_bgcolor\":\"white\",\"plot_bgcolor\":\"#E5ECF6\",\"polar\":{\"angularaxis\":{\"gridcolor\":\"white\",\"linecolor\":\"white\",\"ticks\":\"\"},\"bgcolor\":\"#E5ECF6\",\"radialaxis\":{\"gridcolor\":\"white\",\"linecolor\":\"white\",\"ticks\":\"\"}},\"scene\":{\"xaxis\":{\"backgroundcolor\":\"#E5ECF6\",\"gridcolor\":\"white\",\"gridwidth\":2,\"linecolor\":\"white\",\"showbackground\":true,\"ticks\":\"\",\"zerolinecolor\":\"white\"},\"yaxis\":{\"backgroundcolor\":\"#E5ECF6\",\"gridcolor\":\"white\",\"gridwidth\":2,\"linecolor\":\"white\",\"showbackground\":true,\"ticks\":\"\",\"zerolinecolor\":\"white\"},\"zaxis\":{\"backgroundcolor\":\"#E5ECF6\",\"gridcolor\":\"white\",\"gridwidth\":2,\"linecolor\":\"white\",\"showbackground\":true,\"ticks\":\"\",\"zerolinecolor\":\"white\"}},\"shapedefaults\":{\"line\":{\"color\":\"#2a3f5f\"}},\"ternary\":{\"aaxis\":{\"gridcolor\":\"white\",\"linecolor\":\"white\",\"ticks\":\"\"},\"baxis\":{\"gridcolor\":\"white\",\"linecolor\":\"white\",\"ticks\":\"\"},\"bgcolor\":\"#E5ECF6\",\"caxis\":{\"gridcolor\":\"white\",\"linecolor\":\"white\",\"ticks\":\"\"}},\"title\":{\"x\":0.05},\"xaxis\":{\"automargin\":true,\"gridcolor\":\"white\",\"linecolor\":\"white\",\"ticks\":\"\",\"title\":{\"standoff\":15},\"zerolinecolor\":\"white\",\"zerolinewidth\":2},\"yaxis\":{\"automargin\":true,\"gridcolor\":\"white\",\"linecolor\":\"white\",\"ticks\":\"\",\"title\":{\"standoff\":15},\"zerolinecolor\":\"white\",\"zerolinewidth\":2}}},\"xaxis\":{\"anchor\":\"y\",\"domain\":[0.0,1.0],\"title\":{\"text\":\"index\"}},\"yaxis\":{\"anchor\":\"x\",\"domain\":[0.0,1.0],\"title\":{\"text\":\"value\"}}},                        {\"responsive\": true}                    ).then(function(){\n",
       "                            \n",
       "var gd = document.getElementById('2e61beb1-73c6-493f-a512-1336f1c68fd0');\n",
       "var x = new MutationObserver(function (mutations, observer) {{\n",
       "        var display = window.getComputedStyle(gd).display;\n",
       "        if (!display || display === 'none') {{\n",
       "            console.log([gd, 'removed!']);\n",
       "            Plotly.purge(gd);\n",
       "            observer.disconnect();\n",
       "        }}\n",
       "}});\n",
       "\n",
       "// Listen for the removal of the full notebook cells\n",
       "var notebookContainer = gd.closest('#notebook-container');\n",
       "if (notebookContainer) {{\n",
       "    x.observe(notebookContainer, {childList: true});\n",
       "}}\n",
       "\n",
       "// Listen for the clearing of the current output cell\n",
       "var outputEl = gd.closest('.output');\n",
       "if (outputEl) {{\n",
       "    x.observe(outputEl, {childList: true});\n",
       "}}\n",
       "\n",
       "                        })                };                });            </script>        </div>"
      ]
     },
     "metadata": {},
     "output_type": "display_data"
    }
   ],
   "source": [
    "import plotly.express as px\n",
    "fig = px.line(frq)\n",
    "fig.show()"
   ]
  },
  {
   "cell_type": "code",
   "execution_count": 137,
   "metadata": {},
   "outputs": [
    {
     "name": "stderr",
     "output_type": "stream",
     "text": [
      "[nltk_data] Downloading package stopwords to\n",
      "[nltk_data]     C:\\Users\\rahul\\AppData\\Roaming\\nltk_data...\n",
      "[nltk_data]   Package stopwords is already up-to-date!\n"
     ]
    },
    {
     "data": {
      "text/plain": [
       "True"
      ]
     },
     "execution_count": 137,
     "metadata": {},
     "output_type": "execute_result"
    }
   ],
   "source": [
    "import nltk\n",
    "nltk.download('stopwords')"
   ]
  },
  {
   "cell_type": "code",
   "execution_count": 138,
   "metadata": {},
   "outputs": [],
   "source": [
    "from nltk.corpus import stopwords\n",
    "stop_words = set(stopwords.words('english'))\n",
    "#Stemmering the word\n",
    "sno = nltk.stem.SnowballStemmer('english') #initialising the snowball stemmer"
   ]
  },
  {
   "cell_type": "code",
   "execution_count": 139,
   "metadata": {},
   "outputs": [
    {
     "data": {
      "text/plain": [
       "'The Two Cultures: statistics vs. machine learning? Last year, I read a blog post from Brendan O\\'Connor entitled \"Statistics vs. Machine Learning, fight!\" that discussed some of the differences between the two fields.  Andrew Gelman responded favorably to this:\\n\\nSimon Blomberg: \\n\\n\\n  From R\\'s fortunes\\n  package: To paraphrase provocatively,\\n  \\'machine learning is statistics minus\\n  any checking of models and\\n  assumptions\\'.\\n  -- Brian D. Ripley (about the difference between machine learning\\n  and statistics) useR! 2004, Vienna\\n  (May 2004) :-) Season\\'s Greetings!\\n\\n\\nAndrew Gelman:\\n\\n\\n  In that case, maybe we should get rid\\n  of checking of models and assumptions\\n  more often. Then maybe we\\'d be able to\\n  solve some of the problems that the\\n  machine learning people can solve but\\n  we can\\'t!\\n\\n\\nThere was also the \"Statistical Modeling: The Two Cultures\" paper by Leo Breiman in 2001 which argued that statisticians rely too heavily on data modeling, and that machine learning techniques are making progress by instead relying on the predictive accuracy of models.\\n\\nHas the statistics field changed over the last decade in response to these critiques?  Do the two cultures still exist or has statistics grown to embrace machine learning techniques such as neural networks and support vector machines?\\n'"
      ]
     },
     "execution_count": 139,
     "metadata": {},
     "output_type": "execute_result"
    }
   ],
   "source": [
    "df_main[\"Text\"][0]"
   ]
  },
  {
   "cell_type": "code",
   "execution_count": 140,
   "metadata": {},
   "outputs": [
    {
     "name": "stderr",
     "output_type": "stream",
     "text": [
      "<ipython-input-140-ccbce64dce76>:45: SettingWithCopyWarning:\n",
      "\n",
      "\n",
      "A value is trying to be set on a copy of a slice from a DataFrame.\n",
      "Try using .loc[row_indexer,col_indexer] = value instead\n",
      "\n",
      "See the caveats in the documentation: https://pandas.pydata.org/pandas-docs/stable/user_guide/indexing.html#returning-a-view-versus-a-copy\n",
      "\n"
     ]
    }
   ],
   "source": [
    "def clean_title(text):\n",
    "    text=text.lower()\n",
    "    cleanr = re.compile('<.*?>')\n",
    "    text = re.sub(cleanr, ' ', str(text))\n",
    "    text = re.sub(r\"i'm\", \"i am\", text)\n",
    "    text = re.sub(r\"he's\", \"he is\", text)\n",
    "    text = re.sub(r\"she's\", \"she is\", text)\n",
    "    text = re.sub(r\"that's\", \"that is\", text)        \n",
    "    text = re.sub(r\"what's\", \"what is\", text)\n",
    "    text = re.sub(r\"where's\", \"where is\", text) \n",
    "    text = re.sub(r\"\\'ll\", \" will\", text)  \n",
    "    text = re.sub(r\"\\'ve\", \" have\", text)  \n",
    "    text = re.sub(r\"\\'re\", \" are\", text)\n",
    "    text = re.sub(r\"\\'d\", \" would\", text)\n",
    "    text = re.sub(r\"\\'ve\", \" have\", text)\n",
    "    text = re.sub(r\"won't\", \"will not\", text)\n",
    "    text = re.sub(r\"don't\", \"do not\", text)\n",
    "    text = re.sub(r\"did't\", \"did not\", text)\n",
    "    text = re.sub(r\"can't\", \"can not\", text)\n",
    "    text = re.sub(r\"it's\", \"it is\", text)\n",
    "    text = re.sub(r\"couldn't\", \"could not\", text)\n",
    "    text = re.sub(r\"have't\", \"have not\", text)\n",
    "    text=re.sub(r'[^#+ a-zA-Z]',' ', text)\n",
    "    text=re.sub('\\s+',' ',text)\n",
    "    text=re.sub(r'[^0-9#+ a-zA-Z\\s]',' ', text)\n",
    "    return text\n",
    "\n",
    "def text_normalization(text):\n",
    "    #stopword removal and stemming\n",
    "    string=\"\"\n",
    "    for word in text.split():\n",
    "        if not word in stop_words:\n",
    "            word=(sno.stem(word))\n",
    "            string += word + \" \"\n",
    "    return string\n",
    "\n",
    "title=[]\n",
    "for x in df_main[\"Text\"]:\n",
    "    #print(x)\n",
    "    x=clean_title(x)\n",
    "    clr_title=text_normalization(x)\n",
    "    title.append(clr_title)\n",
    "    #print(clr_title)\n",
    "    #print(\"==========\")\n",
    "df_main[\"Text\"]=title"
   ]
  },
  {
   "cell_type": "code",
   "execution_count": 143,
   "metadata": {},
   "outputs": [
    {
     "data": {
      "text/plain": [
       "'two cultur statist vs machin learn last year read blog post brendan connor entitl statist vs machin learn fight discuss differ two field andrew gelman respond favor simon blomberg r fortun packag paraphras provoc machin learn statist minus check model assumpt brian ripley differ machin learn statist user vienna may season greet andrew gelman case mayb get rid check model assumpt often mayb would abl solv problem machin learn peopl solv also statist model two cultur paper leo breiman argu statistician reli heavili data model machin learn techniqu make progress instead reli predict accuraci model statist field chang last decad respons critiqu two cultur still exist statist grown embrac machin learn techniqu neural network support vector machin '"
      ]
     },
     "execution_count": 143,
     "metadata": {},
     "output_type": "execute_result"
    }
   ],
   "source": [
    "df_main[\"Text\"][0]"
   ]
  },
  {
   "cell_type": "code",
   "execution_count": 144,
   "metadata": {},
   "outputs": [
    {
     "data": {
      "text/plain": [
       "array(['time-series'], dtype=object)"
      ]
     },
     "execution_count": 144,
     "metadata": {},
     "output_type": "execute_result"
    }
   ],
   "source": [
    "df_main[\"Tags\"][6]"
   ]
  },
  {
   "cell_type": "code",
   "execution_count": null,
   "metadata": {},
   "outputs": [],
   "source": []
  },
  {
   "cell_type": "code",
   "execution_count": null,
   "metadata": {},
   "outputs": [],
   "source": []
  },
  {
   "cell_type": "code",
   "execution_count": null,
   "metadata": {},
   "outputs": [],
   "source": []
  },
  {
   "cell_type": "code",
   "execution_count": 145,
   "metadata": {},
   "outputs": [
    {
     "data": {
      "text/plain": [
       "75"
      ]
     },
     "execution_count": 145,
     "metadata": {},
     "output_type": "execute_result"
    }
   ],
   "source": [
    "Top_75_tag=tag_df_sorted[\"word\"].head(75).to_list()\n",
    "len(Top_75_tag)"
   ]
  },
  {
   "cell_type": "code",
   "execution_count": 146,
   "metadata": {},
   "outputs": [],
   "source": [
    "import numpy as np\n",
    "selected_tag_row=[]\n",
    "count=0\n",
    "for train_tags in df_main[\"Tags\"]:\n",
    "    founds_tags=[x for x in train_tags if x in Top_75_tag]\n",
    "    if len(founds_tags)<1:\n",
    "        founds_tags=np.nan\n",
    "        #print(count)\n",
    "    count=count+1\n",
    "    selected_tag_row.append(founds_tags)"
   ]
  },
  {
   "cell_type": "code",
   "execution_count": 147,
   "metadata": {},
   "outputs": [
    {
     "data": {
      "text/plain": [
       "[['machine-learning'],\n",
       " ['forecasting'],\n",
       " ['bayesian'],\n",
       " ['hypothesis-testing', 't-test', 'p-value', 'interpretation'],\n",
       " ['correlation'],\n",
       " ['nonparametric', 'survival'],\n",
       " ['time-series'],\n",
       " ['data-visualization', 'references'],\n",
       " ['machine-learning'],\n",
       " ['references'],\n",
       " ['classification'],\n",
       " ['bayesian', 'references'],\n",
       " nan,\n",
       " ['time-series'],\n",
       " ['sample-size'],\n",
       " ['r', 'time-series', 'poisson'],\n",
       " ['regression'],\n",
       " ['t-test'],\n",
       " ['references'],\n",
       " ['data-visualization'],\n",
       " ['standard-deviation', 'variance', 'anova'],\n",
       " ['modeling'],\n",
       " ['clustering'],\n",
       " ['estimation'],\n",
       " ['regression', 'distributions', 'data-transformation'],\n",
       " ['r', 'clustering', 'feature-selection'],\n",
       " ['self-study', 'econometrics', 'autocorrelation'],\n",
       " ['machine-learning'],\n",
       " ['references'],\n",
       " ['classification', 'confidence-interval', 'nonparametric', 'bootstrap'],\n",
       " ['hypothesis-testing', 'confidence-interval'],\n",
       " ['confidence-interval', 'spss'],\n",
       " ['chi-squared'],\n",
       " ['clustering'],\n",
       " ['time-series', 'neural-networks'],\n",
       " ['t-test'],\n",
       " ['variance'],\n",
       " ['probability', 'bayesian'],\n",
       " ['hypothesis-testing', 'data-visualization', 'interaction'],\n",
       " nan,\n",
       " ['t-test', 'sample-size'],\n",
       " ['time-series', 'standard-deviation', 'mean'],\n",
       " ['cross-validation', 'feature-selection'],\n",
       " nan,\n",
       " ['time-series'],\n",
       " ['distributions', 'normal-distribution'],\n",
       " ['distributions',\n",
       "  'probability',\n",
       "  'hypothesis-testing',\n",
       "  'mathematical-statistics'],\n",
       " ['sampling'],\n",
       " ['self-study', 'mathematical-statistics'],\n",
       " ['distributions', 'bayesian'],\n",
       " ['machine-learning'],\n",
       " ['correlation', 'self-study'],\n",
       " ['regression', 'correlation', 'mathematical-statistics', 'covariance'],\n",
       " ['data-visualization', 'sample-size'],\n",
       " ['mixed-model'],\n",
       " ['r', 'generalized-linear-model'],\n",
       " ['hypothesis-testing', 'self-study', 'p-value'],\n",
       " ['r', 'regression', 'time-series', 'forecasting'],\n",
       " ['regression', 'multiple-comparisons'],\n",
       " ['machine-learning'],\n",
       " ['confidence-interval'],\n",
       " ['references'],\n",
       " ['svm'],\n",
       " ['time-series', 'stata', 'autocorrelation'],\n",
       " ['t-test'],\n",
       " nan,\n",
       " ['r', 'categorical-data', 'chi-squared'],\n",
       " ['p-value'],\n",
       " ['machine-learning'],\n",
       " ['neural-networks'],\n",
       " ['distributions'],\n",
       " ['hypothesis-testing', 'mean', 'standard-deviation'],\n",
       " ['mixed-model', 'model-selection'],\n",
       " ['references', 'mathematical-statistics'],\n",
       " nan,\n",
       " ['correlation'],\n",
       " ['hypothesis-testing', 'mathematical-statistics'],\n",
       " ['r', 'time-series', 'self-study', 'forecasting', 'dataset'],\n",
       " ['time-series', 'data-mining'],\n",
       " ['mixed-model'],\n",
       " ['probability', 'hypothesis-testing', 'sampling'],\n",
       " nan,\n",
       " nan,\n",
       " ['r', 'generalized-linear-model', 'simulation'],\n",
       " ['machine-learning', 't-test', 'feature-selection'],\n",
       " ['r'],\n",
       " ['hypothesis-testing'],\n",
       " ['self-study', 'references', 'experiment-design'],\n",
       " ['r', 'regression', 'estimation'],\n",
       " ['r', 'mixed-model'],\n",
       " ['r', 'regression', 'anova'],\n",
       " ['machine-learning', 'data-mining'],\n",
       " ['regression', 'logistic', 'multiple-regression', 'binomial'],\n",
       " nan,\n",
       " ['probability', 'stata', 'mathematical-statistics'],\n",
       " ['repeated-measures', 'categorical-data'],\n",
       " ['self-study'],\n",
       " nan,\n",
       " ['time-series', 'autocorrelation'],\n",
       " nan,\n",
       " ['r', 'generalized-linear-model'],\n",
       " ['arima', 'autocorrelation'],\n",
       " ['time-series', 'autocorrelation'],\n",
       " ['stata'],\n",
       " ['regression', 'econometrics'],\n",
       " ['hypothesis-testing'],\n",
       " ['correlation', 'dataset'],\n",
       " ['anova'],\n",
       " nan,\n",
       " ['time-series', 'variance', 'bootstrap'],\n",
       " ['statistical-significance', 'multiple-comparisons'],\n",
       " ['r', 'regression', 'time-series', 'forecasting'],\n",
       " ['r', 'survival', 'prediction'],\n",
       " ['confidence-interval'],\n",
       " ['correlation', 'normal-distribution'],\n",
       " ['regression'],\n",
       " ['stata'],\n",
       " ['anova', 'statistical-significance'],\n",
       " ['r', 'bayesian'],\n",
       " ['r'],\n",
       " ['r'],\n",
       " ['matlab'],\n",
       " ['regression', 'econometrics'],\n",
       " ['data-visualization', 'interpretation'],\n",
       " ['correlation', 'p-value'],\n",
       " ['classification'],\n",
       " ['predictive-models', 'prediction'],\n",
       " ['regression', 'pca', 'cross-validation'],\n",
       " ['r', 'confidence-interval', 'binomial', 'interpretation'],\n",
       " ['r', 'svm'],\n",
       " ['machine-learning'],\n",
       " ['regression'],\n",
       " ['spss', 'repeated-measures'],\n",
       " ['predictive-models'],\n",
       " nan,\n",
       " ['regression'],\n",
       " ['machine-learning'],\n",
       " ['r', 'cross-validation'],\n",
       " ['survival', 'econometrics'],\n",
       " ['pca'],\n",
       " nan,\n",
       " nan,\n",
       " ['references'],\n",
       " ['data-transformation', 'interpretation'],\n",
       " ['r'],\n",
       " ['stata', 'econometrics'],\n",
       " ['r'],\n",
       " ['distributions', 'normal-distribution', 'random-variable'],\n",
       " ['estimation'],\n",
       " ['statistical-significance', 'least-squares'],\n",
       " ['r', 'nonparametric'],\n",
       " ['regression'],\n",
       " nan,\n",
       " ['standard-deviation', 'sample-size'],\n",
       " ['r', 'mixed-model', 'generalized-linear-model'],\n",
       " ['mathematical-statistics'],\n",
       " ['machine-learning'],\n",
       " ['bayesian', 'chi-squared'],\n",
       " ['machine-learning'],\n",
       " ['correlation'],\n",
       " ['hypothesis-testing', 'confidence-interval'],\n",
       " ['hypothesis-testing', 'repeated-measures'],\n",
       " ['time-series', 'anova'],\n",
       " ['probability', 'mathematical-statistics'],\n",
       " ['r', 'normal-distribution', 'multivariate-analysis', 'simulation'],\n",
       " ['machine-learning', 'classification'],\n",
       " nan,\n",
       " nan,\n",
       " ['r', 'hypothesis-testing', 'variance', 'chi-squared'],\n",
       " ['regression', 'time-series', 'forecasting'],\n",
       " ['r', 'references'],\n",
       " ['time-series', 'hypothesis-testing', 'repeated-measures'],\n",
       " ['regression', 'data-transformation'],\n",
       " ['poisson'],\n",
       " ['r'],\n",
       " ['machine-learning', 'classification', 'feature-selection', 'python'],\n",
       " ['mixed-model'],\n",
       " ['classification', 'dataset'],\n",
       " ['machine-learning',\n",
       "  'correlation',\n",
       "  'statistical-significance',\n",
       "  'mathematical-statistics'],\n",
       " ['references'],\n",
       " ['anova', 'interaction', 'p-value'],\n",
       " nan,\n",
       " ['regression', 'confidence-interval', 'estimation'],\n",
       " ['time-series', 'confidence-interval'],\n",
       " nan,\n",
       " ['regression', 'logistic'],\n",
       " ['confidence-interval', 'variance'],\n",
       " ['time-series', 'predictive-models', 'forecasting'],\n",
       " ['machine-learning', 'logistic', 'neural-networks'],\n",
       " nan,\n",
       " nan,\n",
       " nan,\n",
       " ['anova', 'repeated-measures'],\n",
       " ['regression', 'probability', 'predictive-models', 'stata', 'logistic'],\n",
       " ['correlation', 'normal-distribution', 'standard-deviation'],\n",
       " nan,\n",
       " ['confidence-interval'],\n",
       " ['multilevel-analysis'],\n",
       " ['chi-squared'],\n",
       " nan,\n",
       " ['hypothesis-testing', 'self-study', 'variance', 'standard-deviation'],\n",
       " ['machine-learning'],\n",
       " nan,\n",
       " ['regression', 'interaction'],\n",
       " ['distributions'],\n",
       " ['r', 'regression', 'logistic'],\n",
       " nan,\n",
       " ['data-transformation'],\n",
       " ['time-series', 'forecasting', 'autocorrelation'],\n",
       " ['r'],\n",
       " ['spss'],\n",
       " ['machine-learning', 'matlab', 'random-forest'],\n",
       " ['r'],\n",
       " ['probability'],\n",
       " ['r'],\n",
       " ['distributions', 'mean'],\n",
       " ['time-series', 'panel-data'],\n",
       " ['r', 'regression', 'hypothesis-testing', 'autocorrelation'],\n",
       " ['r', 'machine-learning', 'svm'],\n",
       " ['experiment-design'],\n",
       " ['r'],\n",
       " nan,\n",
       " ['probability', 'mathematical-statistics', 'python'],\n",
       " ['regression'],\n",
       " ['correlation', 'simulation'],\n",
       " ['machine-learning', 'classification', 'data-mining'],\n",
       " nan,\n",
       " ['t-test', 'panel-data'],\n",
       " nan,\n",
       " ['linear-model'],\n",
       " ['r', 'maximum-likelihood', 'optimization'],\n",
       " ['econometrics'],\n",
       " ['time-series', 'multiple-regression', 'arima'],\n",
       " nan,\n",
       " ['linear-model', 'interpretation'],\n",
       " ['regression'],\n",
       " ['neural-networks'],\n",
       " ['probability'],\n",
       " ['machine-learning', 'neural-networks'],\n",
       " ['distributions', 'confidence-interval', 'categorical-data'],\n",
       " nan,\n",
       " ['r', 'generalized-linear-model'],\n",
       " ['stata'],\n",
       " ['t-test', 'logistic'],\n",
       " nan,\n",
       " ['generalized-linear-model', 'multiple-regression', 'logistic'],\n",
       " ['stata', 'panel-data'],\n",
       " ['time-series', 'predictive-models'],\n",
       " ['probability', 'self-study'],\n",
       " ['hypothesis-testing', 'predictive-models', 'feature-selection'],\n",
       " ['probability', 'distributions'],\n",
       " nan,\n",
       " ['normal-distribution', 'mathematical-statistics'],\n",
       " ['correlation'],\n",
       " ['feature-selection'],\n",
       " ['regression', 'multivariate-analysis'],\n",
       " ['variance', 'maximum-likelihood', 'standard-deviation'],\n",
       " nan,\n",
       " ['categorical-data'],\n",
       " ['machine-learning', 'classification'],\n",
       " ['regression', 'multiple-regression'],\n",
       " ['bayesian'],\n",
       " ['panel-data'],\n",
       " ['time-series'],\n",
       " ['machine-learning', 'feature-selection'],\n",
       " ['regression', 'normal-distribution'],\n",
       " ['r', 'bayesian'],\n",
       " ['clustering'],\n",
       " ['regression', 'multiple-regression'],\n",
       " ['linear-model'],\n",
       " ['regression', 'optimization'],\n",
       " ['cross-validation'],\n",
       " ['distributions', 'maximum-likelihood', 'least-squares'],\n",
       " ['r'],\n",
       " ['r', 'regression', 'logistic', 'interpretation'],\n",
       " ['data-visualization'],\n",
       " ['prediction'],\n",
       " ['hypothesis-testing', 'statistical-significance', 'p-value'],\n",
       " ['probability', 'self-study'],\n",
       " nan,\n",
       " ['statistical-significance'],\n",
       " ['estimation', 'bootstrap'],\n",
       " ['multiple-regression', 'confidence-interval'],\n",
       " ['self-study', 'data-transformation'],\n",
       " nan,\n",
       " ['standard-deviation'],\n",
       " ['r', 'regression'],\n",
       " ['distributions', 'dataset'],\n",
       " ['mean'],\n",
       " ['regression', 'logistic', 'spss'],\n",
       " ['logistic'],\n",
       " ['regression', 'logistic', 'modeling'],\n",
       " ['statistical-significance', 'self-study', 't-test'],\n",
       " ['r', 'pca'],\n",
       " ['r'],\n",
       " ['normal-distribution', 'mathematical-statistics'],\n",
       " ['svm'],\n",
       " ['machine-learning'],\n",
       " ['regression', 'interpretation'],\n",
       " nan,\n",
       " nan,\n",
       " ['hypothesis-testing'],\n",
       " ['econometrics', 'generalized-linear-model'],\n",
       " ['r'],\n",
       " ['mean'],\n",
       " nan,\n",
       " ['maximum-likelihood'],\n",
       " ['self-study', 'data-mining'],\n",
       " nan,\n",
       " ['bayesian'],\n",
       " ['regression', 'multiple-regression'],\n",
       " ['categorical-data', 'spss', 'chi-squared'],\n",
       " ['r', 'matlab'],\n",
       " ['regression'],\n",
       " ['statistical-significance', 'matlab', 'multiple-comparisons'],\n",
       " ['logistic', 'cross-validation'],\n",
       " nan,\n",
       " ['bayesian'],\n",
       " ['regression',\n",
       "  'time-series',\n",
       "  'machine-learning',\n",
       "  'hypothesis-testing',\n",
       "  'statistical-significance'],\n",
       " ['multiple-regression', 'categorical-data'],\n",
       " ['regression', 'bayesian', 'linear-model'],\n",
       " ['normal-distribution'],\n",
       " nan,\n",
       " ['r', 'data-visualization'],\n",
       " ['regression', 'references', 'optimization'],\n",
       " ['machine-learning', 'matlab', 'neural-networks'],\n",
       " ['clustering', 'normal-distribution', 'stata', 'standard-deviation'],\n",
       " ['survival', 'references'],\n",
       " ['r', 'standard-deviation', 'mean'],\n",
       " ['pca'],\n",
       " ['cross-validation'],\n",
       " ['clustering'],\n",
       " ['logistic'],\n",
       " ['regression', 'data-transformation'],\n",
       " ['machine-learning', 'classification', 'cross-validation'],\n",
       " ['probability', 'confidence-interval'],\n",
       " ['spss'],\n",
       " ['sample-size', 'experiment-design'],\n",
       " ['machine-learning', 'prediction'],\n",
       " ['time-series', 'arima'],\n",
       " nan,\n",
       " ['regression', 'statistical-significance', 'confidence-interval'],\n",
       " ['matlab', 'multiple-comparisons'],\n",
       " ['distributions', 'binomial'],\n",
       " ['logistic'],\n",
       " ['bayesian', 'sampling'],\n",
       " ['probability'],\n",
       " ['r', 'data-visualization'],\n",
       " nan,\n",
       " ['hypothesis-testing', 't-test'],\n",
       " ['machine-learning', 'classification', 'dataset'],\n",
       " ['dataset'],\n",
       " ['self-study'],\n",
       " ['self-study', 'bayesian', 'mathematical-statistics'],\n",
       " nan,\n",
       " ['mixed-model'],\n",
       " ['regression'],\n",
       " ['hypothesis-testing', 'generalized-linear-model', 'matlab'],\n",
       " ['r', 'confidence-interval'],\n",
       " nan,\n",
       " ['r', 'regression', 'multiple-regression'],\n",
       " ['distributions', 'statistical-significance'],\n",
       " ['time-series'],\n",
       " ['estimation', 'variance', 'sampling'],\n",
       " ['statistical-significance'],\n",
       " ['categorical-data', 'data-transformation'],\n",
       " ['standard-deviation', 'variance'],\n",
       " ['data-transformation', 'nonparametric'],\n",
       " ['machine-learning'],\n",
       " nan,\n",
       " nan,\n",
       " ['categorical-data'],\n",
       " ['regression', 'logistic'],\n",
       " ['regression', 'data-visualization'],\n",
       " ['regression'],\n",
       " ['r', 'regression', 'categorical-data'],\n",
       " nan,\n",
       " ['r', 'regression'],\n",
       " ['self-study'],\n",
       " ['modeling', 'poisson'],\n",
       " ['poisson'],\n",
       " ['data-visualization', 'interpretation'],\n",
       " ['covariance'],\n",
       " ['hypothesis-testing',\n",
       "  'statistical-significance',\n",
       "  'experiment-design',\n",
       "  'repeated-measures'],\n",
       " ['neural-networks'],\n",
       " ['r', 'pca'],\n",
       " ['regression', 'pca'],\n",
       " ['data-visualization'],\n",
       " ['time-series', 'autocorrelation'],\n",
       " ['clustering', 'nonparametric'],\n",
       " ['anova', 'chi-squared', 'generalized-linear-model'],\n",
       " ['time-series', 'data-mining'],\n",
       " ['variance'],\n",
       " ['classification', 'clustering'],\n",
       " ['logistic'],\n",
       " ['distributions'],\n",
       " ['standard-deviation', 'mean'],\n",
       " ['probability', 'distributions', 'bayesian', 'conditional-probability'],\n",
       " ['r'],\n",
       " ['time-series', 'forecasting', 'arima'],\n",
       " nan,\n",
       " ['anova', 'repeated-measures', 'sample-size'],\n",
       " ['logistic', 'chi-squared', 'interaction'],\n",
       " ['regression', 'matlab'],\n",
       " ['nonparametric'],\n",
       " nan,\n",
       " ['modeling', 'time-series'],\n",
       " ['hypothesis-testing', 'p-value', 'bootstrap', 'simulation'],\n",
       " ['categorical-data', 'chi-squared'],\n",
       " ['dataset', 'random-forest'],\n",
       " ['pca'],\n",
       " ['clustering', 'stata'],\n",
       " ['hypothesis-testing', 'mathematical-statistics'],\n",
       " ['machine-learning', 'probability', 'classification'],\n",
       " ['multilevel-analysis'],\n",
       " ['svm', 'optimization'],\n",
       " ['r', 'machine-learning'],\n",
       " ['machine-learning', 'maximum-likelihood', 'optimization'],\n",
       " ['variance', 'mean'],\n",
       " ['dataset'],\n",
       " ['machine-learning', 't-test', 'cross-validation'],\n",
       " nan,\n",
       " ['r'],\n",
       " ['dataset'],\n",
       " ['regression', 'random-forest'],\n",
       " ['autocorrelation'],\n",
       " ['variance', 'pca'],\n",
       " ['statistical-significance', 't-test'],\n",
       " ['hypothesis-testing', 'random-variable'],\n",
       " ['standard-deviation', 'sample-size'],\n",
       " ['logistic', 'multiple-regression'],\n",
       " nan,\n",
       " ['probability', 'conditional-probability'],\n",
       " ['cross-validation'],\n",
       " ['logistic', 'generalized-linear-model'],\n",
       " ['cross-validation', 'model-selection'],\n",
       " ['clustering'],\n",
       " ['categorical-data'],\n",
       " ['categorical-data'],\n",
       " ['time-series', 'variance'],\n",
       " ['hypothesis-testing', 'anova'],\n",
       " ['r'],\n",
       " ['correlation'],\n",
       " ['survival'],\n",
       " ['probability', 'self-study'],\n",
       " ['maximum-likelihood', 'model-selection'],\n",
       " ['r', 'clustering'],\n",
       " ['maximum-likelihood', 'optimization', 'least-squares'],\n",
       " ['regression', 'anova'],\n",
       " ['normal-distribution'],\n",
       " nan,\n",
       " ['regression', 'spss', 'categorical-data'],\n",
       " ['spss'],\n",
       " ['machine-learning'],\n",
       " ['time-series'],\n",
       " ['chi-squared'],\n",
       " ['time-series'],\n",
       " ['classification'],\n",
       " nan,\n",
       " ['time-series'],\n",
       " ['anova', 'repeated-measures'],\n",
       " ['regression', 'multiple-regression', 'model-selection'],\n",
       " ['normal-distribution'],\n",
       " ['regression', 'anova'],\n",
       " ['machine-learning', 'hypothesis-testing', 'logistic'],\n",
       " ['time-series', 'forecasting'],\n",
       " ['regression', 'estimation', 'multivariate-analysis', 'references'],\n",
       " ['distributions'],\n",
       " ['r', 'regression', 'multivariate-analysis'],\n",
       " ['modeling', 'regression'],\n",
       " ['regression', 'bayesian', 'linear-model'],\n",
       " nan,\n",
       " ['standard-deviation'],\n",
       " ['mathematical-statistics'],\n",
       " ['normal-distribution'],\n",
       " ['regression', 'clustering'],\n",
       " nan,\n",
       " ['regression', 'cross-validation'],\n",
       " ['r', 'regression', 'correlation', 'p-value'],\n",
       " ['r', 'mixed-model'],\n",
       " ['probability'],\n",
       " ['machine-learning', 'pca'],\n",
       " ['machine-learning', 'classification'],\n",
       " ['survival'],\n",
       " ['self-study', 'classification'],\n",
       " nan,\n",
       " ['probability', 'distributions'],\n",
       " ['self-study'],\n",
       " ['r', 'machine-learning', 'clustering'],\n",
       " ['hypothesis-testing'],\n",
       " ['probability', 'distributions', 'self-study', 'random-variable'],\n",
       " nan,\n",
       " ['predictive-models'],\n",
       " ['variance', 'pca', 'standard-deviation'],\n",
       " ['bayesian', 'generalized-linear-model'],\n",
       " ['probability', 'distributions'],\n",
       " ['normal-distribution'],\n",
       " ['probability'],\n",
       " ['r', 'mixed-model', 'optimization'],\n",
       " ['r', 'time-series', 'arima'],\n",
       " ['panel-data'],\n",
       " ['machine-learning', 'predictive-models', 'prediction'],\n",
       " ['normal-distribution', 'linear-model'],\n",
       " ['bayesian'],\n",
       " ['hypothesis-testing', 'statistical-significance', 'multiple-regression'],\n",
       " ['distributions', 'binomial', 'poisson'],\n",
       " ['r', 'regression', 'mixed-model', 'linear-model'],\n",
       " ['machine-learning', 'classification', 'neural-networks'],\n",
       " nan,\n",
       " ['classification'],\n",
       " ['panel-data'],\n",
       " ['econometrics', 'stata'],\n",
       " ['logistic'],\n",
       " ['data-visualization', 'pca'],\n",
       " nan,\n",
       " ['r'],\n",
       " ['random-variable'],\n",
       " ['hypothesis-testing'],\n",
       " ['regression', 'logistic'],\n",
       " ['svm'],\n",
       " ['clustering'],\n",
       " ['cross-validation', 'predictive-models'],\n",
       " ['model-selection', 'multiple-comparisons'],\n",
       " ['time-series', 'forecasting'],\n",
       " ['t-test'],\n",
       " ['conditional-probability'],\n",
       " ['predictive-models'],\n",
       " ['regression'],\n",
       " ['mathematical-statistics'],\n",
       " ['normal-distribution'],\n",
       " ['classification', 'data-mining'],\n",
       " nan,\n",
       " ['bayesian'],\n",
       " ['regression', 'logistic', 'stata'],\n",
       " ['data-visualization'],\n",
       " ['regression', 'stata', 'panel-data'],\n",
       " ['r'],\n",
       " ['probability', 'distributions', 'mathematical-statistics'],\n",
       " ['hypothesis-testing', 'bayesian'],\n",
       " ['arima'],\n",
       " ['data-visualization'],\n",
       " ['correlation'],\n",
       " ['multivariate-analysis'],\n",
       " ['cross-validation'],\n",
       " ['svm'],\n",
       " nan,\n",
       " ['machine-learning', 'svm'],\n",
       " ['distributions', 'modeling', 'poisson', 'binomial'],\n",
       " ['cross-validation'],\n",
       " ['machine-learning', 'logistic', 'svm'],\n",
       " ['time-series', 'stata'],\n",
       " ['r', 'multilevel-analysis', 'mixed-model'],\n",
       " ['self-study', 'nonparametric'],\n",
       " ['statistical-significance', 'poisson'],\n",
       " ['logistic'],\n",
       " ['standard-deviation'],\n",
       " ['random-variable'],\n",
       " nan,\n",
       " ['r'],\n",
       " ['r'],\n",
       " ['correlation', 'pca'],\n",
       " nan,\n",
       " ['t-test', 'mixed-model'],\n",
       " ['interaction'],\n",
       " ['probability', 'modeling', 'data-mining', 'model-selection'],\n",
       " ['multiple-regression', 'data-transformation'],\n",
       " ['matlab'],\n",
       " ['distributions', 'modeling', 'poisson'],\n",
       " ['sampling', 'simulation'],\n",
       " ['time-series', 'data-mining'],\n",
       " nan,\n",
       " ['r', 'random-forest'],\n",
       " ['hypothesis-testing'],\n",
       " ['correlation', 'pca', 'covariance'],\n",
       " ['machine-learning', 'cross-validation', 'feature-selection'],\n",
       " ['anova', 'variance'],\n",
       " ['variance'],\n",
       " ['data-visualization'],\n",
       " nan,\n",
       " ['r', 'logistic', 'stata'],\n",
       " ['cross-validation', 'sample-size'],\n",
       " nan,\n",
       " ['variance', 'chi-squared'],\n",
       " ['mathematical-statistics'],\n",
       " ['probability'],\n",
       " ['r', 'confidence-interval', 'bootstrap'],\n",
       " nan,\n",
       " ['cross-validation'],\n",
       " ['model-selection', 'arima'],\n",
       " ['survival', 'prediction'],\n",
       " nan,\n",
       " ['distributions'],\n",
       " ['r', 'regression'],\n",
       " ['statistical-significance'],\n",
       " ['r', 'mixed-model'],\n",
       " ['references'],\n",
       " ['distributions', 'p-value'],\n",
       " ['self-study', 'references'],\n",
       " ['hypothesis-testing', 'self-study'],\n",
       " ['probability'],\n",
       " nan,\n",
       " ['regression', 'logistic'],\n",
       " ['r'],\n",
       " ['r', 'multiple-regression', 'interaction'],\n",
       " nan,\n",
       " ['regression', 'bayesian', 'variance', 'model-selection'],\n",
       " nan,\n",
       " ['machine-learning', 'classification', 'pca', 'cross-validation'],\n",
       " nan,\n",
       " ['data-visualization', 'svm'],\n",
       " ['regression', 'python'],\n",
       " ['regression', 'cross-validation'],\n",
       " ['logistic', 'mixed-model'],\n",
       " ['regression', 'logistic'],\n",
       " ['nonparametric', 'sample-size'],\n",
       " ['hypothesis-testing', 'nonparametric'],\n",
       " ['correlation', 'mathematical-statistics'],\n",
       " ['clustering'],\n",
       " ['r'],\n",
       " ['cross-validation', 'model-selection'],\n",
       " ['probability', 'normal-distribution', 'standard-deviation'],\n",
       " nan,\n",
       " ['hypothesis-testing'],\n",
       " ['hypothesis-testing', 'classification'],\n",
       " ['standard-deviation'],\n",
       " ['r', 'anova', 'categorical-data', 'interaction'],\n",
       " ['regression', 'correlation'],\n",
       " ['r', 'time-series', 'autocorrelation'],\n",
       " ['machine-learning', 'classification', 'clustering', 'neural-networks'],\n",
       " ['sampling'],\n",
       " ['poisson'],\n",
       " ['survival', 'interaction'],\n",
       " ['multiple-comparisons'],\n",
       " ['r'],\n",
       " nan,\n",
       " ['machine-learning', 'cross-validation'],\n",
       " ['machine-learning'],\n",
       " nan,\n",
       " ['r', 'regression', 'interaction'],\n",
       " ['correlation'],\n",
       " ['bayesian'],\n",
       " ['regression'],\n",
       " ['categorical-data', 'data-transformation', 'dataset'],\n",
       " ['categorical-data', 'chi-squared'],\n",
       " ['r', 'mixed-model'],\n",
       " ['hypothesis-testing', 'mean'],\n",
       " ['mixed-model'],\n",
       " ['machine-learning', 'distributions', 'optimization'],\n",
       " ['random-variable'],\n",
       " ['regression', 'mixed-model'],\n",
       " ['regression'],\n",
       " ['regression', 'logistic', 'spss', 'categorical-data'],\n",
       " ['confidence-interval', 'chi-squared'],\n",
       " ['data-visualization'],\n",
       " ['distributions'],\n",
       " nan,\n",
       " ['machine-learning'],\n",
       " ['r', 'categorical-data'],\n",
       " ['bayesian', 'variance'],\n",
       " nan,\n",
       " ['sampling'],\n",
       " nan,\n",
       " ['regression', 'machine-learning', 'multiple-regression'],\n",
       " ['p-value'],\n",
       " ['r', 'clustering'],\n",
       " ['classification', 'svm'],\n",
       " ['time-series', 'probability', 'poisson'],\n",
       " ['r', 'logistic'],\n",
       " ['spss', 'repeated-measures'],\n",
       " nan,\n",
       " ['r', 'survival'],\n",
       " ['r', 'regression', 'machine-learning'],\n",
       " ['r'],\n",
       " ['logistic', 'references'],\n",
       " ['r', 'distributions', 'optimization'],\n",
       " ['normal-distribution', 'multilevel-analysis'],\n",
       " nan,\n",
       " ['generalized-linear-model', 'optimization'],\n",
       " ['hypothesis-testing', 'self-study', 'statistical-significance', 't-test'],\n",
       " ['feature-selection'],\n",
       " nan,\n",
       " ['time-series', 'data-mining'],\n",
       " ['modeling', 'optimization'],\n",
       " ['self-study', 'confidence-interval', 'estimation'],\n",
       " ['random-variable'],\n",
       " ['regression'],\n",
       " ['r', 'time-series'],\n",
       " ['distributions', 'bayesian'],\n",
       " ['r', 'prediction'],\n",
       " nan,\n",
       " nan,\n",
       " ['random-forest', 'prediction'],\n",
       " ['classification'],\n",
       " ['normal-distribution', 'variance'],\n",
       " ['machine-learning'],\n",
       " ['correlation'],\n",
       " ['hypothesis-testing'],\n",
       " ['cross-validation'],\n",
       " ['correlation', 'data-visualization', 'python'],\n",
       " ['repeated-measures', 'stata'],\n",
       " ['correlation'],\n",
       " ['confidence-interval', 'mixed-model'],\n",
       " ['regression', 'multiple-regression'],\n",
       " ['hypothesis-testing'],\n",
       " ['regression', 'multiple-regression'],\n",
       " ['probability', 'self-study'],\n",
       " ['time-series', 'correlation'],\n",
       " ['time-series'],\n",
       " ['conditional-probability'],\n",
       " ['machine-learning'],\n",
       " ['regression', 'correlation', 'multiple-regression'],\n",
       " ['regression', 'predictive-models', 'prediction'],\n",
       " nan,\n",
       " ['time-series', 'autocorrelation'],\n",
       " ['time-series', 'references'],\n",
       " ['machine-learning', 'classification', 'neural-networks'],\n",
       " nan,\n",
       " ['clustering', 'data-mining'],\n",
       " ['correlation'],\n",
       " ['probability', 'conditional-probability'],\n",
       " ['time-series'],\n",
       " ['binomial'],\n",
       " ['time-series', 'bayesian'],\n",
       " ['r'],\n",
       " ['regression', 'generalized-linear-model'],\n",
       " ['r', 'distributions'],\n",
       " ['distributions'],\n",
       " ['distributions'],\n",
       " ['r'],\n",
       " ['r', 'regression', 'hypothesis-testing'],\n",
       " ['probability'],\n",
       " ['classification', 'svm'],\n",
       " ['regression'],\n",
       " ['bayesian'],\n",
       " ['matlab', 'binomial'],\n",
       " ['categorical-data'],\n",
       " ['r'],\n",
       " nan,\n",
       " ['spss', 'logistic'],\n",
       " nan,\n",
       " ['nonparametric'],\n",
       " ['multivariate-analysis'],\n",
       " ['matlab', 'python'],\n",
       " ['regression'],\n",
       " ['statistical-significance'],\n",
       " ['multivariate-analysis'],\n",
       " ['data-visualization', 'standard-deviation'],\n",
       " ['hypothesis-testing', 'statistical-significance', 'p-value'],\n",
       " ['neural-networks'],\n",
       " ['regression', 'logistic'],\n",
       " ['cross-validation'],\n",
       " ['r'],\n",
       " ['logistic'],\n",
       " ['self-study', 'correlation', 'covariance', 'random-variable'],\n",
       " ['probability', 'survival', 'binomial'],\n",
       " ['modeling'],\n",
       " ['r'],\n",
       " nan,\n",
       " ['logistic', 'data-transformation'],\n",
       " ['bayesian'],\n",
       " ['time-series', 'panel-data'],\n",
       " ['model-selection'],\n",
       " ['multivariate-analysis'],\n",
       " ['time-series', 'self-study', 'normal-distribution', 'modeling'],\n",
       " ['regression', 'time-series', 'autocorrelation'],\n",
       " ['distributions', 'normal-distribution'],\n",
       " ['machine-learning', 'probability', 'bayesian'],\n",
       " ['correlation', 'categorical-data', 'model-selection'],\n",
       " ['sampling'],\n",
       " ['regression', 'classification', 'data-mining'],\n",
       " ['machine-learning'],\n",
       " nan,\n",
       " ['regression', 'conditional-probability'],\n",
       " ['probability', 'data-mining'],\n",
       " ['chi-squared'],\n",
       " ['distributions', 'normal-distribution', 'random-variable'],\n",
       " ['machine-learning'],\n",
       " ['r'],\n",
       " ['distributions', 'statistical-significance'],\n",
       " ['multiple-comparisons'],\n",
       " ['machine-learning', 'random-forest'],\n",
       " ['time-series', 'matlab', 'arima'],\n",
       " ['random-variable'],\n",
       " ['distributions', 'python'],\n",
       " ['references'],\n",
       " ['linear-model', 'python'],\n",
       " ['data-mining', 'dataset'],\n",
       " ['regression'],\n",
       " ['machine-learning', 'anova', 'svm', 'feature-selection'],\n",
       " nan,\n",
       " ['dataset'],\n",
       " ['r'],\n",
       " ['time-series'],\n",
       " ['r', 'survival'],\n",
       " ['pca'],\n",
       " ['variance'],\n",
       " ['r', 'data-visualization'],\n",
       " ['probability', 'mathematical-statistics'],\n",
       " nan,\n",
       " ['linear-model'],\n",
       " ['mixed-model'],\n",
       " ['r'],\n",
       " ['regression', 'machine-learning'],\n",
       " ['clustering', 'categorical-data', 'dataset'],\n",
       " ['regression', 'logistic', 'classification', 't-test'],\n",
       " ['machine-learning', 'classification', 'data-mining'],\n",
       " ['svm'],\n",
       " ['probability'],\n",
       " ['arima', 'autocorrelation'],\n",
       " ['time-series', 'panel-data'],\n",
       " ['time-series', 'mathematical-statistics'],\n",
       " ['classification'],\n",
       " ['r'],\n",
       " ['confidence-interval', 'p-value'],\n",
       " ['hypothesis-testing', 'statistical-significance'],\n",
       " ['machine-learning', 'feature-selection'],\n",
       " nan,\n",
       " ['repeated-measures', 'sample-size', 'experiment-design'],\n",
       " ['self-study', 'mathematical-statistics', 'maximum-likelihood'],\n",
       " ['regression', 'pca'],\n",
       " ['regression', 'multiple-regression'],\n",
       " ['multiple-regression', 'experiment-design'],\n",
       " nan,\n",
       " nan,\n",
       " nan,\n",
       " ['classification', 'cross-validation', 'matlab'],\n",
       " nan,\n",
       " nan,\n",
       " ['r'],\n",
       " nan,\n",
       " ['r'],\n",
       " ['r', 'mixed-model'],\n",
       " ['machine-learning'],\n",
       " ['r', 'time-series', 'arima'],\n",
       " ['machine-learning', 'neural-networks'],\n",
       " ['hypothesis-testing', 'chi-squared'],\n",
       " ['t-test', 'repeated-measures'],\n",
       " nan,\n",
       " nan,\n",
       " ['time-series', 'machine-learning', 'python'],\n",
       " ['confidence-interval'],\n",
       " ['r', 'regression', 'multiple-regression', 'interaction'],\n",
       " ['data-visualization', 'references'],\n",
       " ['machine-learning', 'self-study'],\n",
       " nan,\n",
       " ['r', 'regression', 'data-transformation', 'linear-model'],\n",
       " ['standard-deviation', 'variance'],\n",
       " ['r'],\n",
       " ['sample-size'],\n",
       " ['hypothesis-testing', 'statistical-significance', 'categorical-data'],\n",
       " ['standard-deviation'],\n",
       " ['self-study', 'chi-squared'],\n",
       " ['machine-learning'],\n",
       " ['r', 'probability'],\n",
       " ['regression'],\n",
       " ['r', 'probability'],\n",
       " ['interpretation'],\n",
       " ['r'],\n",
       " ['clustering', 'python'],\n",
       " ['modeling'],\n",
       " nan,\n",
       " ['data-visualization'],\n",
       " ['sampling'],\n",
       " ['predictive-models'],\n",
       " ['multivariate-analysis', 'panel-data'],\n",
       " ['mathematical-statistics'],\n",
       " ['time-series', 'forecasting', 'references', 'autocorrelation'],\n",
       " ['multiple-regression'],\n",
       " nan,\n",
       " ['r', 'hypothesis-testing'],\n",
       " ['regression', 'multiple-regression', 'linear-model'],\n",
       " nan,\n",
       " ['logistic'],\n",
       " nan,\n",
       " ['data-visualization', 't-test'],\n",
       " ['machine-learning'],\n",
       " ['regression', 'machine-learning', 'distributions'],\n",
       " nan,\n",
       " ['hypothesis-testing', 'statistical-significance'],\n",
       " ['references'],\n",
       " ['regression'],\n",
       " ['r', 'clustering', 'data-mining'],\n",
       " ['machine-learning', 'clustering'],\n",
       " ['references'],\n",
       " ['probability', 'self-study'],\n",
       " ['mathematical-statistics', 'econometrics', 'linear-model'],\n",
       " ['chi-squared'],\n",
       " nan,\n",
       " ['r', 'time-series', 'forecasting', 'arima'],\n",
       " ['probability', 'distributions', 'multivariate-analysis'],\n",
       " ['predictive-models', 'references'],\n",
       " ['regression'],\n",
       " ['regression'],\n",
       " ['time-series', 'modeling'],\n",
       " nan,\n",
       " ['hypothesis-testing', 'mathematical-statistics'],\n",
       " ['modeling', 'predictive-models'],\n",
       " ['maximum-likelihood', 'least-squares'],\n",
       " ['references', 'stata'],\n",
       " nan,\n",
       " ['regression', 'generalized-linear-model'],\n",
       " ['self-study', 'mathematical-statistics'],\n",
       " ['machine-learning'],\n",
       " ['dataset', 'bootstrap'],\n",
       " ['neural-networks'],\n",
       " ['r', 'time-series'],\n",
       " ['data-mining'],\n",
       " ['r', 'multiple-comparisons'],\n",
       " ['time-series'],\n",
       " ['probability'],\n",
       " ['correlation', 'repeated-measures'],\n",
       " ['confidence-interval', 'mean'],\n",
       " ['confidence-interval'],\n",
       " nan,\n",
       " ['chi-squared'],\n",
       " nan,\n",
       " ['r'],\n",
       " ['distributions'],\n",
       " ['correlation'],\n",
       " ['machine-learning', 'python'],\n",
       " ['clustering'],\n",
       " ['optimization'],\n",
       " ['t-test', 'experiment-design'],\n",
       " ['mathematical-statistics'],\n",
       " ['predictive-models'],\n",
       " ['r', 'machine-learning', 'random-forest'],\n",
       " ['python', 'mixed-model'],\n",
       " ['machine-learning', 'feature-selection'],\n",
       " ['mathematical-statistics'],\n",
       " ['hypothesis-testing', 'maximum-likelihood'],\n",
       " ['clustering', 'bootstrap'],\n",
       " ['regression', 'anova', 't-test'],\n",
       " ['data-visualization'],\n",
       " nan,\n",
       " ['r', 'normal-distribution'],\n",
       " ['random-forest'],\n",
       " nan,\n",
       " ['estimation'],\n",
       " nan,\n",
       " ['generalized-linear-model', 'poisson'],\n",
       " ['clustering'],\n",
       " ['regression', 'references'],\n",
       " nan,\n",
       " ['r', 'logistic', 'data-visualization', 'generalized-linear-model'],\n",
       " ['r', 'python'],\n",
       " ['probability', 'mathematical-statistics', 'conditional-probability'],\n",
       " ['time-series', 'data-visualization'],\n",
       " ['probability'],\n",
       " ['machine-learning'],\n",
       " ['r', 'generalized-linear-model'],\n",
       " ['anova', 'repeated-measures'],\n",
       " ['machine-learning', 'clustering'],\n",
       " ['t-test'],\n",
       " ['self-study', 'bayesian'],\n",
       " ['regression'],\n",
       " ['mathematical-statistics'],\n",
       " ['data-visualization'],\n",
       " ['distributions', 'covariance'],\n",
       " ['probability', 'poisson', 'random-variable'],\n",
       " nan,\n",
       " ['machine-learning'],\n",
       " ['r', 'mixed-model', 'repeated-measures', 'references'],\n",
       " nan,\n",
       " nan,\n",
       " nan,\n",
       " nan,\n",
       " ['regression', 'self-study'],\n",
       " ['svm', 'cross-validation', 'feature-selection'],\n",
       " ['regression', 'statistical-significance'],\n",
       " ['mixed-model', 'panel-data', 'multilevel-analysis'],\n",
       " ['hypothesis-testing'],\n",
       " ['regression'],\n",
       " ['probability'],\n",
       " ['r', 'regression', 'dataset'],\n",
       " ['machine-learning', 'maximum-likelihood'],\n",
       " ['regression', 'econometrics'],\n",
       " ['regression'],\n",
       " ['p-value'],\n",
       " ['regression'],\n",
       " ['anova', 'linear-model'],\n",
       " ['r', 'survival'],\n",
       " ['optimization'],\n",
       " ['regression', 'multiple-regression'],\n",
       " ['hypothesis-testing'],\n",
       " ['statistical-significance'],\n",
       " nan,\n",
       " ['regression'],\n",
       " ['distributions'],\n",
       " ['regression', 'multiple-regression'],\n",
       " ['matlab', 'arima'],\n",
       " ['regression'],\n",
       " ['time-series', 'forecasting'],\n",
       " ['distributions'],\n",
       " ['time-series'],\n",
       " ['hypothesis-testing'],\n",
       " ['r', 'modeling', 'data-mining'],\n",
       " nan,\n",
       " ['r'],\n",
       " ['mathematical-statistics'],\n",
       " ['regression'],\n",
       " ...]"
      ]
     },
     "execution_count": 147,
     "metadata": {},
     "output_type": "execute_result"
    }
   ],
   "source": [
    "selected_tag_row"
   ]
  },
  {
   "cell_type": "code",
   "execution_count": 148,
   "metadata": {},
   "outputs": [
    {
     "name": "stderr",
     "output_type": "stream",
     "text": [
      "<ipython-input-148-a3463ef8ed74>:1: SettingWithCopyWarning:\n",
      "\n",
      "\n",
      "A value is trying to be set on a copy of a slice from a DataFrame.\n",
      "Try using .loc[row_indexer,col_indexer] = value instead\n",
      "\n",
      "See the caveats in the documentation: https://pandas.pydata.org/pandas-docs/stable/user_guide/indexing.html#returning-a-view-versus-a-copy\n",
      "\n"
     ]
    }
   ],
   "source": [
    "df_main[\"Tags\"]=selected_tag_row"
   ]
  },
  {
   "cell_type": "code",
   "execution_count": 149,
   "metadata": {},
   "outputs": [
    {
     "data": {
      "text/html": [
       "<div>\n",
       "<style scoped>\n",
       "    .dataframe tbody tr th:only-of-type {\n",
       "        vertical-align: middle;\n",
       "    }\n",
       "\n",
       "    .dataframe tbody tr th {\n",
       "        vertical-align: top;\n",
       "    }\n",
       "\n",
       "    .dataframe thead th {\n",
       "        text-align: right;\n",
       "    }\n",
       "</style>\n",
       "<table border=\"1\" class=\"dataframe\">\n",
       "  <thead>\n",
       "    <tr style=\"text-align: right;\">\n",
       "      <th></th>\n",
       "      <th>Text</th>\n",
       "      <th>Tags</th>\n",
       "    </tr>\n",
       "  </thead>\n",
       "  <tbody>\n",
       "    <tr>\n",
       "      <th>0</th>\n",
       "      <td>two cultur statist vs machin learn last year read blog post brendan connor entitl statist vs machin learn fight discuss differ two field andrew gelman respond favor simon blomberg r fortun packag paraphras provoc machin learn statist minus check model assumpt brian ripley differ machin learn statist user vienna may season greet andrew gelman case mayb get rid check model assumpt often mayb wou...</td>\n",
       "      <td>[machine-learning]</td>\n",
       "    </tr>\n",
       "    <tr>\n",
       "      <th>1</th>\n",
       "      <td>forecast demograph census way forecast demograph census valid calibr techniqu concern census block vari size rural area lot larger condens urban area need account area size differ let say census data date back census period far forecast futur census zone chang light boundari account chang method valid census forecast exampl data exist census period model first test latter two anoth way state p...</td>\n",
       "      <td>[forecasting]</td>\n",
       "    </tr>\n",
       "    <tr>\n",
       "      <th>2</th>\n",
       "      <td>bayesian frequentist reason plain english would describ plain english characterist distinguish bayesian frequentist reason</td>\n",
       "      <td>[bayesian]</td>\n",
       "    </tr>\n",
       "    <tr>\n",
       "      <th>3</th>\n",
       "      <td>mean p valu valu statist test take statist cours tri help fellow student notic one subject inspir much head desk bang interpret result statist hypothesi test seem student easili learn perform calcul requir given test get hung interpret result mani computer tool report test result term p valu valu would explain follow point colleg student take first cours statist p valu mean relat hypothesi tes...</td>\n",
       "      <td>[hypothesis-testing, t-test, p-value, interpretation]</td>\n",
       "    </tr>\n",
       "    <tr>\n",
       "      <th>4</th>\n",
       "      <td>exampl teach correl mean causat old say correl mean causat teach tend use follow standard exampl illustr point number stork birth rate denmark number priest america alcohol start th centuri note strong correl number radio number peopl insan asylum favorit pirat caus global warm howev refer exampl whilst amus obvious fals anyon good exampl</td>\n",
       "      <td>[correlation]</td>\n",
       "    </tr>\n",
       "  </tbody>\n",
       "</table>\n",
       "</div>"
      ],
      "text/plain": [
       "                                                                                                                                                                                                                                                                                                                                                                                                              Text  \\\n",
       "0  two cultur statist vs machin learn last year read blog post brendan connor entitl statist vs machin learn fight discuss differ two field andrew gelman respond favor simon blomberg r fortun packag paraphras provoc machin learn statist minus check model assumpt brian ripley differ machin learn statist user vienna may season greet andrew gelman case mayb get rid check model assumpt often mayb wou...   \n",
       "1  forecast demograph census way forecast demograph census valid calibr techniqu concern census block vari size rural area lot larger condens urban area need account area size differ let say census data date back census period far forecast futur census zone chang light boundari account chang method valid census forecast exampl data exist census period model first test latter two anoth way state p...   \n",
       "2                                                                                                                                                                                                                                                                                      bayesian frequentist reason plain english would describ plain english characterist distinguish bayesian frequentist reason    \n",
       "3  mean p valu valu statist test take statist cours tri help fellow student notic one subject inspir much head desk bang interpret result statist hypothesi test seem student easili learn perform calcul requir given test get hung interpret result mani computer tool report test result term p valu valu would explain follow point colleg student take first cours statist p valu mean relat hypothesi tes...   \n",
       "4                                                            exampl teach correl mean causat old say correl mean causat teach tend use follow standard exampl illustr point number stork birth rate denmark number priest america alcohol start th centuri note strong correl number radio number peopl insan asylum favorit pirat caus global warm howev refer exampl whilst amus obvious fals anyon good exampl    \n",
       "\n",
       "                                                    Tags  \n",
       "0                                     [machine-learning]  \n",
       "1                                          [forecasting]  \n",
       "2                                             [bayesian]  \n",
       "3  [hypothesis-testing, t-test, p-value, interpretation]  \n",
       "4                                          [correlation]  "
      ]
     },
     "execution_count": 149,
     "metadata": {},
     "output_type": "execute_result"
    }
   ],
   "source": [
    "df_main.head()"
   ]
  },
  {
   "cell_type": "code",
   "execution_count": 150,
   "metadata": {},
   "outputs": [],
   "source": [
    "df_main.to_csv(\"train_preprocessed.csv\")"
   ]
  },
  {
   "cell_type": "code",
   "execution_count": null,
   "metadata": {},
   "outputs": [],
   "source": []
  },
  {
   "cell_type": "code",
   "execution_count": null,
   "metadata": {},
   "outputs": [],
   "source": []
  },
  {
   "cell_type": "code",
   "execution_count": null,
   "metadata": {},
   "outputs": [],
   "source": []
  },
  {
   "cell_type": "code",
   "execution_count": null,
   "metadata": {},
   "outputs": [],
   "source": []
  },
  {
   "cell_type": "code",
   "execution_count": null,
   "metadata": {},
   "outputs": [],
   "source": []
  },
  {
   "cell_type": "code",
   "execution_count": null,
   "metadata": {},
   "outputs": [],
   "source": []
  },
  {
   "cell_type": "code",
   "execution_count": null,
   "metadata": {},
   "outputs": [],
   "source": []
  },
  {
   "cell_type": "code",
   "execution_count": null,
   "metadata": {},
   "outputs": [],
   "source": []
  },
  {
   "cell_type": "code",
   "execution_count": null,
   "metadata": {},
   "outputs": [],
   "source": []
  },
  {
   "cell_type": "code",
   "execution_count": null,
   "metadata": {},
   "outputs": [],
   "source": []
  },
  {
   "cell_type": "code",
   "execution_count": null,
   "metadata": {},
   "outputs": [],
   "source": []
  },
  {
   "cell_type": "code",
   "execution_count": null,
   "metadata": {},
   "outputs": [],
   "source": []
  },
  {
   "cell_type": "code",
   "execution_count": null,
   "metadata": {},
   "outputs": [],
   "source": []
  },
  {
   "cell_type": "code",
   "execution_count": null,
   "metadata": {},
   "outputs": [],
   "source": []
  },
  {
   "cell_type": "code",
   "execution_count": null,
   "metadata": {},
   "outputs": [],
   "source": []
  },
  {
   "cell_type": "code",
   "execution_count": 161,
   "metadata": {},
   "outputs": [],
   "source": [
    "import pandas as pd\n",
    "import matplotlib.pyplot as plt\n",
    "import plotly.express as px\n",
    "import numpy as np\n",
    "import re"
   ]
  },
  {
   "cell_type": "code",
   "execution_count": 162,
   "metadata": {},
   "outputs": [
    {
     "data": {
      "text/html": [
       "<div>\n",
       "<style scoped>\n",
       "    .dataframe tbody tr th:only-of-type {\n",
       "        vertical-align: middle;\n",
       "    }\n",
       "\n",
       "    .dataframe tbody tr th {\n",
       "        vertical-align: top;\n",
       "    }\n",
       "\n",
       "    .dataframe thead th {\n",
       "        text-align: right;\n",
       "    }\n",
       "</style>\n",
       "<table border=\"1\" class=\"dataframe\">\n",
       "  <thead>\n",
       "    <tr style=\"text-align: right;\">\n",
       "      <th></th>\n",
       "      <th>Unnamed: 0</th>\n",
       "      <th>Text</th>\n",
       "      <th>Tags</th>\n",
       "    </tr>\n",
       "  </thead>\n",
       "  <tbody>\n",
       "    <tr>\n",
       "      <th>0</th>\n",
       "      <td>0</td>\n",
       "      <td>two cultur statist vs machin learn last year read blog post brendan connor entitl statist vs machin learn fight discuss differ two field andrew gelman respond favor simon blomberg r fortun packag paraphras provoc machin learn statist minus check model assumpt brian ripley differ machin learn statist user vienna may season greet andrew gelman case mayb get rid check model assumpt often mayb wou...</td>\n",
       "      <td>['machine-learning']</td>\n",
       "    </tr>\n",
       "    <tr>\n",
       "      <th>1</th>\n",
       "      <td>1</td>\n",
       "      <td>forecast demograph census way forecast demograph census valid calibr techniqu concern census block vari size rural area lot larger condens urban area need account area size differ let say census data date back census period far forecast futur census zone chang light boundari account chang method valid census forecast exampl data exist census period model first test latter two anoth way state p...</td>\n",
       "      <td>['forecasting']</td>\n",
       "    </tr>\n",
       "    <tr>\n",
       "      <th>2</th>\n",
       "      <td>2</td>\n",
       "      <td>bayesian frequentist reason plain english would describ plain english characterist distinguish bayesian frequentist reason</td>\n",
       "      <td>['bayesian']</td>\n",
       "    </tr>\n",
       "    <tr>\n",
       "      <th>3</th>\n",
       "      <td>3</td>\n",
       "      <td>mean p valu valu statist test take statist cours tri help fellow student notic one subject inspir much head desk bang interpret result statist hypothesi test seem student easili learn perform calcul requir given test get hung interpret result mani computer tool report test result term p valu valu would explain follow point colleg student take first cours statist p valu mean relat hypothesi tes...</td>\n",
       "      <td>['hypothesis-testing', 't-test', 'p-value', 'interpretation']</td>\n",
       "    </tr>\n",
       "    <tr>\n",
       "      <th>4</th>\n",
       "      <td>4</td>\n",
       "      <td>exampl teach correl mean causat old say correl mean causat teach tend use follow standard exampl illustr point number stork birth rate denmark number priest america alcohol start th centuri note strong correl number radio number peopl insan asylum favorit pirat caus global warm howev refer exampl whilst amus obvious fals anyon good exampl</td>\n",
       "      <td>['correlation']</td>\n",
       "    </tr>\n",
       "  </tbody>\n",
       "</table>\n",
       "</div>"
      ],
      "text/plain": [
       "   Unnamed: 0  \\\n",
       "0           0   \n",
       "1           1   \n",
       "2           2   \n",
       "3           3   \n",
       "4           4   \n",
       "\n",
       "                                                                                                                                                                                                                                                                                                                                                                                                              Text  \\\n",
       "0  two cultur statist vs machin learn last year read blog post brendan connor entitl statist vs machin learn fight discuss differ two field andrew gelman respond favor simon blomberg r fortun packag paraphras provoc machin learn statist minus check model assumpt brian ripley differ machin learn statist user vienna may season greet andrew gelman case mayb get rid check model assumpt often mayb wou...   \n",
       "1  forecast demograph census way forecast demograph census valid calibr techniqu concern census block vari size rural area lot larger condens urban area need account area size differ let say census data date back census period far forecast futur census zone chang light boundari account chang method valid census forecast exampl data exist census period model first test latter two anoth way state p...   \n",
       "2                                                                                                                                                                                                                                                                                      bayesian frequentist reason plain english would describ plain english characterist distinguish bayesian frequentist reason    \n",
       "3  mean p valu valu statist test take statist cours tri help fellow student notic one subject inspir much head desk bang interpret result statist hypothesi test seem student easili learn perform calcul requir given test get hung interpret result mani computer tool report test result term p valu valu would explain follow point colleg student take first cours statist p valu mean relat hypothesi tes...   \n",
       "4                                                            exampl teach correl mean causat old say correl mean causat teach tend use follow standard exampl illustr point number stork birth rate denmark number priest america alcohol start th centuri note strong correl number radio number peopl insan asylum favorit pirat caus global warm howev refer exampl whilst amus obvious fals anyon good exampl    \n",
       "\n",
       "                                                            Tags  \n",
       "0                                           ['machine-learning']  \n",
       "1                                                ['forecasting']  \n",
       "2                                                   ['bayesian']  \n",
       "3  ['hypothesis-testing', 't-test', 'p-value', 'interpretation']  \n",
       "4                                                ['correlation']  "
      ]
     },
     "execution_count": 162,
     "metadata": {},
     "output_type": "execute_result"
    }
   ],
   "source": [
    "df_questions = pd.read_csv('train_preprocessed.csv')\n",
    "df_questions.head()"
   ]
  },
  {
   "cell_type": "code",
   "execution_count": 163,
   "metadata": {},
   "outputs": [
    {
     "data": {
      "text/html": [
       "<div>\n",
       "<style scoped>\n",
       "    .dataframe tbody tr th:only-of-type {\n",
       "        vertical-align: middle;\n",
       "    }\n",
       "\n",
       "    .dataframe tbody tr th {\n",
       "        vertical-align: top;\n",
       "    }\n",
       "\n",
       "    .dataframe thead th {\n",
       "        text-align: right;\n",
       "    }\n",
       "</style>\n",
       "<table border=\"1\" class=\"dataframe\">\n",
       "  <thead>\n",
       "    <tr style=\"text-align: right;\">\n",
       "      <th></th>\n",
       "      <th>Unnamed: 0</th>\n",
       "      <th>Text</th>\n",
       "      <th>Tags</th>\n",
       "    </tr>\n",
       "  </thead>\n",
       "  <tbody>\n",
       "    <tr>\n",
       "      <th>0</th>\n",
       "      <td>0</td>\n",
       "      <td>two cultur statist vs machin learn last year read blog post brendan connor entitl statist vs machin learn fight discuss differ two field andrew gelman respond favor simon blomberg r fortun packag paraphras provoc machin learn statist minus check model assumpt brian ripley differ machin learn statist user vienna may season greet andrew gelman case mayb get rid check model assumpt often mayb wou...</td>\n",
       "      <td>['machine-learning']</td>\n",
       "    </tr>\n",
       "    <tr>\n",
       "      <th>1</th>\n",
       "      <td>1</td>\n",
       "      <td>forecast demograph census way forecast demograph census valid calibr techniqu concern census block vari size rural area lot larger condens urban area need account area size differ let say census data date back census period far forecast futur census zone chang light boundari account chang method valid census forecast exampl data exist census period model first test latter two anoth way state p...</td>\n",
       "      <td>['forecasting']</td>\n",
       "    </tr>\n",
       "    <tr>\n",
       "      <th>2</th>\n",
       "      <td>2</td>\n",
       "      <td>bayesian frequentist reason plain english would describ plain english characterist distinguish bayesian frequentist reason</td>\n",
       "      <td>['bayesian']</td>\n",
       "    </tr>\n",
       "    <tr>\n",
       "      <th>3</th>\n",
       "      <td>3</td>\n",
       "      <td>mean p valu valu statist test take statist cours tri help fellow student notic one subject inspir much head desk bang interpret result statist hypothesi test seem student easili learn perform calcul requir given test get hung interpret result mani computer tool report test result term p valu valu would explain follow point colleg student take first cours statist p valu mean relat hypothesi tes...</td>\n",
       "      <td>['hypothesis-testing', 't-test', 'p-value', 'interpretation']</td>\n",
       "    </tr>\n",
       "    <tr>\n",
       "      <th>4</th>\n",
       "      <td>4</td>\n",
       "      <td>exampl teach correl mean causat old say correl mean causat teach tend use follow standard exampl illustr point number stork birth rate denmark number priest america alcohol start th centuri note strong correl number radio number peopl insan asylum favorit pirat caus global warm howev refer exampl whilst amus obvious fals anyon good exampl</td>\n",
       "      <td>['correlation']</td>\n",
       "    </tr>\n",
       "  </tbody>\n",
       "</table>\n",
       "</div>"
      ],
      "text/plain": [
       "   Unnamed: 0  \\\n",
       "0           0   \n",
       "1           1   \n",
       "2           2   \n",
       "3           3   \n",
       "4           4   \n",
       "\n",
       "                                                                                                                                                                                                                                                                                                                                                                                                              Text  \\\n",
       "0  two cultur statist vs machin learn last year read blog post brendan connor entitl statist vs machin learn fight discuss differ two field andrew gelman respond favor simon blomberg r fortun packag paraphras provoc machin learn statist minus check model assumpt brian ripley differ machin learn statist user vienna may season greet andrew gelman case mayb get rid check model assumpt often mayb wou...   \n",
       "1  forecast demograph census way forecast demograph census valid calibr techniqu concern census block vari size rural area lot larger condens urban area need account area size differ let say census data date back census period far forecast futur census zone chang light boundari account chang method valid census forecast exampl data exist census period model first test latter two anoth way state p...   \n",
       "2                                                                                                                                                                                                                                                                                      bayesian frequentist reason plain english would describ plain english characterist distinguish bayesian frequentist reason    \n",
       "3  mean p valu valu statist test take statist cours tri help fellow student notic one subject inspir much head desk bang interpret result statist hypothesi test seem student easili learn perform calcul requir given test get hung interpret result mani computer tool report test result term p valu valu would explain follow point colleg student take first cours statist p valu mean relat hypothesi tes...   \n",
       "4                                                            exampl teach correl mean causat old say correl mean causat teach tend use follow standard exampl illustr point number stork birth rate denmark number priest america alcohol start th centuri note strong correl number radio number peopl insan asylum favorit pirat caus global warm howev refer exampl whilst amus obvious fals anyon good exampl    \n",
       "\n",
       "                                                            Tags  \n",
       "0                                           ['machine-learning']  \n",
       "1                                                ['forecasting']  \n",
       "2                                                   ['bayesian']  \n",
       "3  ['hypothesis-testing', 't-test', 'p-value', 'interpretation']  \n",
       "4                                                ['correlation']  "
      ]
     },
     "execution_count": 163,
     "metadata": {},
     "output_type": "execute_result"
    }
   ],
   "source": [
    "df_questions.head()"
   ]
  },
  {
   "cell_type": "code",
   "execution_count": null,
   "metadata": {},
   "outputs": [],
   "source": []
  },
  {
   "cell_type": "code",
   "execution_count": 164,
   "metadata": {},
   "outputs": [],
   "source": [
    "df_questions.drop(['Unnamed: 0'], axis = 1,inplace=True)"
   ]
  },
  {
   "cell_type": "code",
   "execution_count": 160,
   "metadata": {},
   "outputs": [],
   "source": [
    "df_questions.to_csv(\"train_preprocessed.csv\")"
   ]
  },
  {
   "cell_type": "code",
   "execution_count": null,
   "metadata": {},
   "outputs": [],
   "source": []
  },
  {
   "cell_type": "code",
   "execution_count": null,
   "metadata": {},
   "outputs": [],
   "source": []
  }
 ],
 "metadata": {
  "kernelspec": {
   "display_name": "Python 3",
   "language": "python",
   "name": "python3"
  },
  "language_info": {
   "codemirror_mode": {
    "name": "ipython",
    "version": 3
   },
   "file_extension": ".py",
   "mimetype": "text/x-python",
   "name": "python",
   "nbconvert_exporter": "python",
   "pygments_lexer": "ipython3",
   "version": "3.8.5"
  }
 },
 "nbformat": 4,
 "nbformat_minor": 4
}
